{
  "nbformat": 4,
  "nbformat_minor": 0,
  "metadata": {
    "colab": {
      "name": "numpy_repeat.ipynb",
      "provenance": []
    },
    "kernelspec": {
      "name": "python3",
      "display_name": "Python 3"
    },
    "language_info": {
      "name": "python"
    }
  },
  "cells": [
    {
      "cell_type": "code",
      "source": [
        "import numpy as np"
      ],
      "metadata": {
        "id": "4NJCTFvpB240"
      },
      "execution_count": null,
      "outputs": []
    },
    {
      "cell_type": "code",
      "execution_count": null,
      "metadata": {
        "colab": {
          "base_uri": "https://localhost:8080/"
        },
        "id": "su13pdmtBuLU",
        "outputId": "9977025a-ccdf-46b8-988a-9e68b0bc9d04"
      },
      "outputs": [
        {
          "output_type": "stream",
          "name": "stdout",
          "text": [
            "[0 2 1 1 2 0 2]\n",
            "[0 1 2 3 4 5 6]\n",
            "[1 1 2 3 4 4 6 6]\n"
          ]
        }
      ],
      "source": [
        "c = np.bincount([6,1,1,2,3,4,4,6]) # bincount를 생성 \n",
        "print(c)\n",
        "x = np.arange(len(c)) # c의 길이만큼 배열생성\n",
        "print(x)\n",
        "a = np.repeat(x, repeats = c) # a를 repeat를 이용해 x를 c와 같아지도록 반복\n",
        "print(a)"
      ]
    },
    {
      "cell_type": "markdown",
      "source": [
        "repeat를 이용할 때 반복횟수(p)에 repeat를 적용할 배열(x)와 broadcasting이 가능한 배열을 넣어주면 배열(x)의 인덱스에 있는 숫자가 배열(p)의 인덱스에 있는 숫자만큼 반복하게된다."
      ],
      "metadata": {
        "id": "WIDOq1qpBzKF"
      }
    },
    {
      "cell_type": "code",
      "source": [
        "print(np.repeat(x, repeats=3))\n",
        "p1 = [1,1,1,1,1,1,1]\n",
        "p2 = [2,2,2,2,2,2,2]\n",
        "print(np.repeat(x, repeats=p1))\n",
        "print(np.repeat(x, repeats=p2))"
      ],
      "metadata": {
        "colab": {
          "base_uri": "https://localhost:8080/"
        },
        "id": "DG7GabrtB0Ch",
        "outputId": "ab75c2b6-4a4c-4741-8edd-6e27e8841fe7"
      },
      "execution_count": null,
      "outputs": [
        {
          "output_type": "stream",
          "name": "stdout",
          "text": [
            "[0 0 0 1 1 1 2 2 2 3 3 3 4 4 4 5 5 5 6 6 6]\n",
            "[0 1 2 3 4 5 6]\n",
            "[0 0 1 1 2 2 3 3 4 4 5 5 6 6]\n"
          ]
        }
      ]
    },
    {
      "cell_type": "code",
      "source": [
        ""
      ],
      "metadata": {
        "id": "OqW1QHKRB0jo"
      },
      "execution_count": null,
      "outputs": []
    }
  ]
}