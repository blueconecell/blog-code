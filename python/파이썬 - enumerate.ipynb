{
  "cells": [
    {
      "cell_type": "markdown",
      "metadata": {
        "id": "OPiGXbZYVnGj"
      },
      "source": [
        "> # enumerate\n",
        "- 열거하다 라는 뜻으로, for문과 함께 자주 사용되며 순서가 있는 자료형의 인덱스를 부여해주는 기능이 있다.\n",
        "- 인덱스 번호와 컬렉션 원소를 tuple형태로 반환한다.\n"
      ]
    },
    {
      "cell_type": "code",
      "execution_count": 1,
      "metadata": {
        "colab": {
          "base_uri": "https://localhost:8080/"
        },
        "id": "QcFUv7E5T7Q8",
        "outputId": "da858aa4-8eca-4d10-8c07-8b68570a9e70"
      },
      "outputs": [
        {
          "name": "stdout",
          "output_type": "stream",
          "text": [
            "(0, 'a')\n",
            "(1, 'b')\n",
            "(2, 'c')\n",
            "(3, 'd')\n"
          ]
        }
      ],
      "source": [
        "for i in enumerate(['a','b','c','d']):\n",
        "  print(i)"
      ]
    },
    {
      "cell_type": "markdown",
      "metadata": {},
      "source": [
        "위 코드처럼 i 하나로만 받을 경우 인덱스 번호와 순서가 있는 자료형의 값을 하나씩 튜플로 반환한다."
      ]
    },
    {
      "cell_type": "code",
      "execution_count": 8,
      "metadata": {
        "colab": {
          "base_uri": "https://localhost:8080/"
        },
        "id": "YxxStGNQYOJL",
        "outputId": "2cf9ea6c-e728-4a9a-82db-0d9fc3036617"
      },
      "outputs": [
        {
          "name": "stdout",
          "output_type": "stream",
          "text": [
            "0 a\n",
            "1 b\n",
            "2 c\n",
            "3 d\n"
          ]
        }
      ],
      "source": [
        "for i,j  in enumerate(['a','b','c','d']):\n",
        "  print(i,j)"
      ]
    },
    {
      "cell_type": "markdown",
      "metadata": {},
      "source": [
        "i, j 2개로 받을 경우 i에는 인덱스 번호가 들어가고 j에는 값을 하나씩 받는 것을 볼 수 있다."
      ]
    },
    {
      "cell_type": "code",
      "execution_count": 9,
      "metadata": {
        "colab": {
          "base_uri": "https://localhost:8080/"
        },
        "id": "JwOLmYMZVl6Z",
        "outputId": "d0ea7bbf-029f-48bd-bff6-2c35bf24b758"
      },
      "outputs": [
        {
          "name": "stdout",
          "output_type": "stream",
          "text": [
            "(0, 'a')\n",
            "(1, 'b')\n",
            "(2, 'c')\n"
          ]
        }
      ],
      "source": [
        "for i in enumerate({'a':'가', 'b':'나','c':'다'}):\n",
        "  print(i)"
      ]
    },
    {
      "cell_type": "markdown",
      "metadata": {},
      "source": [
        "딕셔너리 자료형은 키 값을 받아온다."
      ]
    }
  ],
  "metadata": {
    "colab": {
      "name": "whole tests",
      "provenance": []
    },
    "kernelspec": {
      "display_name": "Python 3",
      "name": "python3"
    },
    "language_info": {
      "name": "python"
    }
  },
  "nbformat": 4,
  "nbformat_minor": 0
}
