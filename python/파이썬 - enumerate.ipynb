{
  "nbformat": 4,
  "nbformat_minor": 0,
  "metadata": {
    "colab": {
      "name": "whole tests",
      "provenance": []
    },
    "kernelspec": {
      "name": "python3",
      "display_name": "Python 3"
    },
    "language_info": {
      "name": "python"
    }
  },
  "cells": [
    {
      "cell_type": "markdown",
      "source": [
        "> # enumerate\n",
        "- 열거하다 라는 뜻으로, for문과 함께 자주 사용되며 순서가 있는 자료형의 인덱스를 부여해주는 기능이 있다.\n",
        "- 인덱스 번호와 컬렉션 원소를 tuple형태로 반환한다.\n"
      ],
      "metadata": {
        "id": "OPiGXbZYVnGj"
      }
    },
    {
      "cell_type": "code",
      "execution_count": 1,
      "metadata": {
        "colab": {
          "base_uri": "https://localhost:8080/"
        },
        "id": "QcFUv7E5T7Q8",
        "outputId": "da858aa4-8eca-4d10-8c07-8b68570a9e70"
      },
      "outputs": [
        {
          "output_type": "stream",
          "name": "stdout",
          "text": [
            "(0, 'a')\n",
            "(1, 'b')\n",
            "(2, 'c')\n",
            "(3, 'd')\n"
          ]
        }
      ],
      "source": [
        "for i in enumerate(['a','b','c','d']):\n",
        "  print(i)"
      ]
    },
    {
      "cell_type": "code",
      "source": [
        "for i in enumerate(('a','b','c','d')):\n",
        "  print(i)"
      ],
      "metadata": {
        "colab": {
          "base_uri": "https://localhost:8080/"
        },
        "id": "nFmkx6DxURw6",
        "outputId": "7b66de7a-8c50-4256-c61f-cb202ba4e0ec"
      },
      "execution_count": 2,
      "outputs": [
        {
          "output_type": "stream",
          "name": "stdout",
          "text": [
            "(0, 'a')\n",
            "(1, 'b')\n",
            "(2, 'c')\n",
            "(3, 'd')\n"
          ]
        }
      ]
    },
    {
      "cell_type": "code",
      "source": [
        "for i,j  in enumerate(['a','b','c','d']):\n",
        "  print(i,j)"
      ],
      "metadata": {
        "colab": {
          "base_uri": "https://localhost:8080/"
        },
        "id": "YxxStGNQYOJL",
        "outputId": "2cf9ea6c-e728-4a9a-82db-0d9fc3036617"
      },
      "execution_count": 8,
      "outputs": [
        {
          "output_type": "stream",
          "name": "stdout",
          "text": [
            "0 a\n",
            "1 b\n",
            "2 c\n",
            "3 d\n"
          ]
        }
      ]
    },
    {
      "cell_type": "code",
      "source": [
        "for i in enumerate({'a':'가', 'b':'나','c':'다'}):\n",
        "  print(i)"
      ],
      "metadata": {
        "colab": {
          "base_uri": "https://localhost:8080/"
        },
        "id": "JwOLmYMZVl6Z",
        "outputId": "d0ea7bbf-029f-48bd-bff6-2c35bf24b758"
      },
      "execution_count": 9,
      "outputs": [
        {
          "output_type": "stream",
          "name": "stdout",
          "text": [
            "(0, 'a')\n",
            "(1, 'b')\n",
            "(2, 'c')\n"
          ]
        }
      ]
    },
    {
      "cell_type": "code",
      "source": [
        ""
      ],
      "metadata": {
        "id": "LCZjBa0tX46B"
      },
      "execution_count": null,
      "outputs": []
    }
  ]
}