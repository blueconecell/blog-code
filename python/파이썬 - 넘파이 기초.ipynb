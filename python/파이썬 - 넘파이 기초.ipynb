{
  "nbformat": 4,
  "nbformat_minor": 0,
  "metadata": {
    "colab": {
      "name": "2019250011_김정연 9차과제 the visual guide to numpy의 사본",
      "provenance": [],
      "collapsed_sections": []
    },
    "kernelspec": {
      "name": "python3",
      "display_name": "Python 3"
    },
    "language_info": {
      "name": "python"
    }
  },
  "cells": [
    {
      "cell_type": "markdown",
      "source": [
        "> # [서론]\n",
        "\n",
        "## numpy\n",
        "- 넘파이의 주요 컨셉은 n-차원의 행렬이다.\n",
        "1. 1차원 벡터\n",
        "2. 2차원 벡터\n",
        "3. 3차원과 그 이상\n",
        "\n",
        "## 넘파이의 행렬과 파이썬의 배열의 차이점\n",
        "- 차원이 늘어날 수 록 행렬은 배열보다 더 간편하다.\n",
        "- 수직적일때, 배열보다 더 빠르다.\n",
        "- 끝에 요소를 추가할 때 배열보다 느리다.\n",
        "- 한개의 자료형으로 이루어졌을 때 오직 더 빠르게 작동한다."
      ],
      "metadata": {
        "id": "OKH_HL_LLsi9"
      }
    },
    {
      "cell_type": "markdown",
      "source": [
        "## 1. 1차원 벡터\n",
        "- 벡터의 초기설정\n"
      ],
      "metadata": {
        "id": "M4ajthzZNRoD"
      }
    },
    {
      "cell_type": "code",
      "execution_count": null,
      "metadata": {
        "id": "dgcBciqdLFH4"
      },
      "outputs": [],
      "source": [
        "import numpy as np"
      ]
    },
    {
      "cell_type": "code",
      "source": [
        "a = np.array([1.,2.,3.])\n",
        "a"
      ],
      "metadata": {
        "colab": {
          "base_uri": "https://localhost:8080/"
        },
        "id": "943WsM3bNjfZ",
        "outputId": "817eb300-d099-4614-9f99-a263f2ae0a2b"
      },
      "execution_count": null,
      "outputs": [
        {
          "output_type": "execute_result",
          "data": {
            "text/plain": [
              "array([1., 2., 3.])"
            ]
          },
          "metadata": {},
          "execution_count": 3
        }
      ]
    },
    {
      "cell_type": "markdown",
      "source": [
        "- 행렬은 배열과 달리 끝에 요소를 추가할 때 속도가 느리기 때문에 빠른 속도를 위해서는 zeros나 empty를 통해 미리 필요한 공간을 할당하는편이 좋다."
      ],
      "metadata": {
        "id": "uNsIZ3UpN4I_"
      }
    },
    {
      "cell_type": "code",
      "source": [
        "b = np.zeros(3,int)\n",
        "b"
      ],
      "metadata": {
        "colab": {
          "base_uri": "https://localhost:8080/"
        },
        "id": "8tzW_xGDNmfv",
        "outputId": "215e22ed-c892-459e-d7de-e9735518de39"
      },
      "execution_count": null,
      "outputs": [
        {
          "output_type": "execute_result",
          "data": {
            "text/plain": [
              "array([0, 0, 0])"
            ]
          },
          "metadata": {},
          "execution_count": 5
        }
      ]
    },
    {
      "cell_type": "code",
      "source": [
        "b = np.ones(3)\n",
        "b"
      ],
      "metadata": {
        "colab": {
          "base_uri": "https://localhost:8080/"
        },
        "id": "8zWDu7c-OJwA",
        "outputId": "552d6b4d-7b49-4c65-b961-5fd246fb624e"
      },
      "execution_count": null,
      "outputs": [
        {
          "output_type": "execute_result",
          "data": {
            "text/plain": [
              "array([1., 1., 1.])"
            ]
          },
          "metadata": {},
          "execution_count": 8
        }
      ]
    },
    {
      "cell_type": "code",
      "source": [
        "b = np.empty(3)\n",
        "b"
      ],
      "metadata": {
        "colab": {
          "base_uri": "https://localhost:8080/"
        },
        "id": "uW5KnbmyOMjh",
        "outputId": "a2979d84-ec21-4b96-83c2-5cdab0ae5467"
      },
      "execution_count": null,
      "outputs": [
        {
          "output_type": "execute_result",
          "data": {
            "text/plain": [
              "array([1., 1., 1.])"
            ]
          },
          "metadata": {},
          "execution_count": 10
        }
      ]
    },
    {
      "cell_type": "code",
      "source": [
        "b = np.full(3,7)\n",
        "b"
      ],
      "metadata": {
        "colab": {
          "base_uri": "https://localhost:8080/"
        },
        "id": "wRaa5csLOffl",
        "outputId": "6d02f574-092b-48fe-c31c-f7883679719d"
      },
      "execution_count": null,
      "outputs": [
        {
          "output_type": "execute_result",
          "data": {
            "text/plain": [
              "array([7, 7, 7])"
            ]
          },
          "metadata": {},
          "execution_count": 13
        }
      ]
    },
    {
      "cell_type": "markdown",
      "source": [
        "- _like를 위 메소드들에게 붙여서 매개변수로 따라하고 싶은 행렬을 넣어주면 그 행렬과 같은 shape 의 행렬을 할당해준다"
      ],
      "metadata": {
        "id": "8XbU1E-wOslf"
      }
    },
    {
      "cell_type": "code",
      "source": [
        "b = np.ones_like(a)\n",
        "b"
      ],
      "metadata": {
        "colab": {
          "base_uri": "https://localhost:8080/"
        },
        "id": "FmDATXD3Oc30",
        "outputId": "188bc77b-a67b-4ff1-a080-6f55e6f47ad1"
      },
      "execution_count": null,
      "outputs": [
        {
          "output_type": "execute_result",
          "data": {
            "text/plain": [
              "array([1., 1., 1.])"
            ]
          },
          "metadata": {},
          "execution_count": 14
        }
      ]
    },
    {
      "cell_type": "markdown",
      "source": [
        "- float형태의 부동소수점 배열이 필요한 경우  agrang를 통해 만들어줄 수 있다.\n",
        "- 하지만 arange는 float을 처리하는데 그리 좋지는 않다."
      ],
      "metadata": {
        "id": "vLwB0M1IPoWK"
      }
    },
    {
      "cell_type": "code",
      "source": [
        "np.arange(0.4,0.8,0.1)"
      ],
      "metadata": {
        "colab": {
          "base_uri": "https://localhost:8080/"
        },
        "id": "lNjGhxgWPZJA",
        "outputId": "6c0b6d25-037a-438a-dc9a-13b24a76417b"
      },
      "execution_count": null,
      "outputs": [
        {
          "output_type": "execute_result",
          "data": {
            "text/plain": [
              "array([0.4, 0.5, 0.6, 0.7])"
            ]
          },
          "metadata": {},
          "execution_count": 15
        }
      ]
    },
    {
      "cell_type": "code",
      "source": [
        "np.arange(0.5,0.8,0.1)"
      ],
      "metadata": {
        "colab": {
          "base_uri": "https://localhost:8080/"
        },
        "id": "yZPMFiK8QAbl",
        "outputId": "81419ab5-cb76-47f3-ddde-ba77b18fc1b8"
      },
      "execution_count": null,
      "outputs": [
        {
          "output_type": "execute_result",
          "data": {
            "text/plain": [
              "array([0.5, 0.6, 0.7, 0.8])"
            ]
          },
          "metadata": {},
          "execution_count": 16
        }
      ]
    },
    {
      "cell_type": "markdown",
      "source": [
        "- 부동소수점이 가진 단점 때문에 위 두 코드의 결과 행렬의 끝원소가 지시한 것과는 다른 결과를 도출한다.\n",
        "- 하지만 이 문제를 linspace를 이용하면 된다."
      ],
      "metadata": {
        "id": "ixbazpzpQIFf"
      }
    },
    {
      "cell_type": "code",
      "source": [
        "np.linspace(0, 1, 11)"
      ],
      "metadata": {
        "colab": {
          "base_uri": "https://localhost:8080/"
        },
        "id": "WZ7Y3VBTQHw2",
        "outputId": "0848b003-60b9-4158-96d7-afee3b0b0238"
      },
      "execution_count": null,
      "outputs": [
        {
          "output_type": "execute_result",
          "data": {
            "text/plain": [
              "array([0. , 0.1, 0.2, 0.3, 0.4, 0.5, 0.6, 0.7, 0.8, 0.9, 1. ])"
            ]
          },
          "metadata": {},
          "execution_count": 29
        }
      ]
    },
    {
      "cell_type": "markdown",
      "source": [
        "## 벡터 인덱싱\n",
        "- 행렬의 인덱싱은 views 방식으로 가져오기 때문에 원본 데이터가 수정될 수 있다.\n",
        "- 행렬을 복사하고 싶다면 .copy()를 통해서 복사해야한다."
      ],
      "metadata": {
        "id": "2SHV2UzeRtaK"
      }
    },
    {
      "cell_type": "code",
      "source": [
        "a = np.array([1,2,3])\n",
        "b = a        # 복사 아님 \n",
        "c = a[:]      # 복사 아님\n",
        "d = a.copy() # 복사"
      ],
      "metadata": {
        "id": "IJNO8cZKQE8W"
      },
      "execution_count": null,
      "outputs": []
    }
  ]
}