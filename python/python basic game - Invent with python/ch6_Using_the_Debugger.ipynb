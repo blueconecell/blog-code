{
  "nbformat": 4,
  "nbformat_minor": 0,
  "metadata": {
    "colab": {
      "name": "ch6_Using_the_Debugger",
      "provenance": [],
      "collapsed_sections": []
    },
    "kernelspec": {
      "name": "python3",
      "display_name": "Python 3"
    },
    "language_info": {
      "name": "python"
    }
  },
  "cells": [
    {
      "cell_type": "code",
      "execution_count": 3,
      "metadata": {
        "colab": {
          "base_uri": "https://localhost:8080/"
        },
        "id": "HpBA7N_vxe90",
        "outputId": "4f477d70-2d66-4b6b-8def-91229dbb042b"
      },
      "outputs": [
        {
          "output_type": "stream",
          "name": "stdout",
          "text": [
            "2 + 10 ?\n",
            "12\n",
            "No! The answer is  12\n"
          ]
        }
      ],
      "source": [
        "import random\n",
        "number1 = random.randint(1,10)\n",
        "number2 = random.randint(1,10)\n",
        "print(str(number1) + ' + ' + str(number2) + ' ?')\n",
        "ans = input()\n",
        "if ans == number1 + number2:\n",
        "  print('correct!')\n",
        "else:\n",
        "  print('No! The answer is ', number1+number2)"
      ]
    },
    {
      "cell_type": "markdown",
      "source": [
        "- debugger를 통해 프로그램의 버그를 찾을 수 있다.\n",
        "- 위의 작은 프로그램의 버그를 찾아내면 입력을 받은 ans는 str자료형인데, 랜덤으로 받은 숫자들은 int자료형이여서 비교하면 무조건 false가 나오는 문제를 확인할 수 있다."
      ],
      "metadata": {
        "id": "7x-BuulgywTq"
      }
    }
  ]
}