{
  "nbformat": 4,
  "nbformat_minor": 0,
  "metadata": {
    "colab": {
      "name": "파이썬 - 선형대수 기초",
      "provenance": [],
      "collapsed_sections": []
    },
    "kernelspec": {
      "name": "python3",
      "display_name": "Python 3"
    },
    "language_info": {
      "name": "python"
    }
  },
  "cells": [
    {
      "cell_type": "markdown",
      "source": [
        "# 선형대수\n",
        "[참고자료](https://codingalzi.github.io/datapy/linear_algebra_basics.html)\n",
        "## 1. 벡터\n",
        "- 벡터는 크기와 방향을 가지고 있는 물리값\n",
        "- 순서가 존재하는 숫자의 리스트\n"
      ],
      "metadata": {
        "id": "9XseTVgzXdgo"
      }
    },
    {
      "cell_type": "code",
      "source": [
        "# pure python\n",
        "vector1 = [1,2,3]\n",
        "vector2 = [4,5,6]\n",
        "print(vector1, vector2)"
      ],
      "metadata": {
        "colab": {
          "base_uri": "https://localhost:8080/"
        },
        "id": "9BoPYfkQk9N0",
        "outputId": "6b249ea3-45bf-4dd1-c0cd-4e727200abcd"
      },
      "execution_count": 3,
      "outputs": [
        {
          "output_type": "stream",
          "name": "stdout",
          "text": [
            "[1, 2, 3] [4, 5, 6]\n"
          ]
        }
      ]
    },
    {
      "cell_type": "code",
      "source": [
        "# numpy\n",
        "import numpy as np\n",
        "npVector1 = np.array([1,2,3])\n",
        "npVector2 = np.array([4,5,6])\n",
        "print(npVector1, npVector2)"
      ],
      "metadata": {
        "colab": {
          "base_uri": "https://localhost:8080/"
        },
        "id": "Wyu0kZPKlGSL",
        "outputId": "37aaf079-abfc-4c87-f891-7920d47256b9"
      },
      "execution_count": 4,
      "outputs": [
        {
          "output_type": "stream",
          "name": "stdout",
          "text": [
            "[1 2 3] [4 5 6]\n"
          ]
        }
      ]
    },
    {
      "cell_type": "markdown",
      "source": [
        "### 벡터 덧셈\n",
        "- 차원이 같은 두 개의 덧셈은 같은 위치에 있는 항목끼리 더한 결과로 이루어진 벡터를 생성한다.\n",
        "- (1,2) + (2,1) = (1+2, 2+1) = (3,3)"
      ],
      "metadata": {
        "id": "qmTgximskqeQ"
      }
    },
    {
      "cell_type": "code",
      "execution_count": 9,
      "metadata": {
        "id": "ShwNm0_iXY4C"
      },
      "outputs": [],
      "source": [
        "# pure python\n",
        "\n",
        "from typing import List\n",
        "Vector = List[float]\n",
        "\n",
        "\n",
        "def vector_sum(vectors: List[Vector]) -> Vector:\n",
        "    \n",
        "    assert vectors                   # 1개 이상의 벡터가 주어져야 함\n",
        "\n",
        "    num_elements = len(vectors[0])   # 벡터 개수\n",
        "    \n",
        "    assert all(len(v) == num_elements for v in vectors)   # 모든 벡터의 크기가 같아야 함\n",
        "\n",
        "    # 동일한 위치의 항목을 모두 더한 값들로 이루어진 벡터 반환\n",
        "    return [sum(vector[i] for vector in vectors)\n",
        "            for i in range(num_elements)]"
      ]
    },
    {
      "cell_type": "code",
      "source": [
        "# pure python\n",
        "vector_sum((vector1, vector2))"
      ],
      "metadata": {
        "colab": {
          "base_uri": "https://localhost:8080/"
        },
        "id": "Oim6rRlmmuMc",
        "outputId": "2df7a2a0-43c6-40c6-af5d-d360bbb9b652"
      },
      "execution_count": 12,
      "outputs": [
        {
          "output_type": "execute_result",
          "data": {
            "text/plain": [
              "[5, 7, 9]"
            ]
          },
          "metadata": {},
          "execution_count": 12
        }
      ]
    },
    {
      "cell_type": "code",
      "source": [
        "# numpy\n",
        "npVector1+npVector2"
      ],
      "metadata": {
        "colab": {
          "base_uri": "https://localhost:8080/"
        },
        "id": "vnQmBGJUlvba",
        "outputId": "6c252d15-1689-459f-be51-cf6461cfb804"
      },
      "execution_count": 13,
      "outputs": [
        {
          "output_type": "execute_result",
          "data": {
            "text/plain": [
              "array([5, 7, 9])"
            ]
          },
          "metadata": {},
          "execution_count": 13
        }
      ]
    },
    {
      "cell_type": "markdown",
      "source": [
        "## 벡터 뺄셈\n",
        "- 차원이 같은 벡터 두개의 뺄셈은 같은 위치에 있는 항목끼리 뺀 결과로 이루어진 벡터를 생성한다.\n",
        "- (1,2) - (2,1) = (1-2, 2-1) = (-1, 1)"
      ],
      "metadata": {
        "id": "Pq7CwZjgnJYY"
      }
    },
    {
      "cell_type": "code",
      "source": [
        "# pure python\n",
        "def subtractV(v: Vector, w: Vector) -> Vector:\n",
        "    assert len(v) == len(w)   # 두 벡터의 길이가 같아야 함\n",
        "\n",
        "    return [v_i - w_i for v_i, w_i in zip(v, w)]"
      ],
      "metadata": {
        "id": "4FhIXq3wnHDy"
      },
      "execution_count": 14,
      "outputs": []
    },
    {
      "cell_type": "code",
      "source": [
        "# pure python\n",
        "subtractV(vector1, vector2)"
      ],
      "metadata": {
        "colab": {
          "base_uri": "https://localhost:8080/"
        },
        "id": "WRdMThIunj2x",
        "outputId": "3371d1c1-4da7-45ca-badd-5fc3ced307b9"
      },
      "execution_count": 16,
      "outputs": [
        {
          "output_type": "execute_result",
          "data": {
            "text/plain": [
              "[-3, -3, -3]"
            ]
          },
          "metadata": {},
          "execution_count": 16
        }
      ]
    },
    {
      "cell_type": "code",
      "source": [
        "#numpy\n",
        "npVector1-npVector2"
      ],
      "metadata": {
        "colab": {
          "base_uri": "https://localhost:8080/"
        },
        "id": "FVwDneC9nnmf",
        "outputId": "8827c617-c49c-4af3-b6fe-3864f742dbf9"
      },
      "execution_count": 17,
      "outputs": [
        {
          "output_type": "execute_result",
          "data": {
            "text/plain": [
              "array([-3, -3, -3])"
            ]
          },
          "metadata": {},
          "execution_count": 17
        }
      ]
    },
    {
      "cell_type": "code",
      "source": [
        ""
      ],
      "metadata": {
        "id": "og01qURgnun8"
      },
      "execution_count": null,
      "outputs": []
    }
  ]
}