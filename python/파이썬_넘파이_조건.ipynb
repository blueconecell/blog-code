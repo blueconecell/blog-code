{
  "nbformat": 4,
  "nbformat_minor": 0,
  "metadata": {
    "colab": {
      "name": "파이썬-넘파이 조건 ",
      "provenance": [],
      "collapsed_sections": []
    },
    "kernelspec": {
      "name": "python3",
      "display_name": "Python 3"
    },
    "language_info": {
      "name": "python"
    }
  },
  "cells": [
    {
      "cell_type": "markdown",
      "source": [
        "## 넘파이 조건 설정"
      ],
      "metadata": {
        "id": "th15qyAtKc_w"
      }
    },
    {
      "cell_type": "code",
      "execution_count": 1,
      "metadata": {
        "id": "u314IWCC7nIP"
      },
      "outputs": [],
      "source": [
        "import numpy as np"
      ]
    },
    {
      "cell_type": "code",
      "source": [
        "arr = np.arange(12,0,-1) # 배열 선언\n",
        "arr"
      ],
      "metadata": {
        "colab": {
          "base_uri": "https://localhost:8080/"
        },
        "id": "D5HTQ3zl7wir",
        "outputId": "d4581d30-d194-45b0-f19d-d78e50c8d876"
      },
      "execution_count": 11,
      "outputs": [
        {
          "output_type": "execute_result",
          "data": {
            "text/plain": [
              "array([12, 11, 10,  9,  8,  7,  6,  5,  4,  3,  2,  1])"
            ]
          },
          "metadata": {},
          "execution_count": 11
        }
      ]
    },
    {
      "cell_type": "markdown",
      "source": [
        "- 단순하게 인덱스를 대괄호 안에 조건을 표현해줄 수 있다."
      ],
      "metadata": {
        "id": "Drx54_ouKlNw"
      }
    },
    {
      "cell_type": "code",
      "source": [
        "arr[arr>10]"
      ],
      "metadata": {
        "colab": {
          "base_uri": "https://localhost:8080/"
        },
        "id": "kqGjm8AQ8A7y",
        "outputId": "91da413e-de9f-4ad4-be60-62057ce03d4a"
      },
      "execution_count": 12,
      "outputs": [
        {
          "output_type": "execute_result",
          "data": {
            "text/plain": [
              "array([12, 11])"
            ]
          },
          "metadata": {},
          "execution_count": 12
        }
      ]
    },
    {
      "cell_type": "markdown",
      "source": [
        "- np.where을 통해 괄호 안에 조건을 써줄 수 있다.\n",
        "- 인덱스 번호로 결과를 출력해준다."
      ],
      "metadata": {
        "id": "dmYzDWx_KsF1"
      }
    },
    {
      "cell_type": "code",
      "source": [
        "np.where(arr>3)"
      ],
      "metadata": {
        "colab": {
          "base_uri": "https://localhost:8080/"
        },
        "id": "Iw5MkHqv72Zi",
        "outputId": "99a080c5-a1a0-4cde-b313-decf30247e88"
      },
      "execution_count": 13,
      "outputs": [
        {
          "output_type": "execute_result",
          "data": {
            "text/plain": [
              "(array([0, 1, 2, 3, 4, 5, 6, 7, 8]),)"
            ]
          },
          "metadata": {},
          "execution_count": 13
        }
      ]
    },
    {
      "cell_type": "markdown",
      "source": [
        "- 조건을 2개 사용하고 싶을 때는 logical_and, logical_or, logical_xor으로 조건을 2개를 넣어 줄 수도 있다.\n",
        "- 이 경우에는 부울값으로 결과를 내보낸다."
      ],
      "metadata": {
        "id": "Njejv3ziKxzt"
      }
    },
    {
      "cell_type": "code",
      "source": [
        "np.logical_and(arr>3, arr%2==0)"
      ],
      "metadata": {
        "colab": {
          "base_uri": "https://localhost:8080/"
        },
        "id": "uOQavoIm77Mq",
        "outputId": "4ad435f7-1b6e-48ea-d244-fe0f1930c751"
      },
      "execution_count": 14,
      "outputs": [
        {
          "output_type": "execute_result",
          "data": {
            "text/plain": [
              "array([ True, False,  True, False,  True, False,  True, False,  True,\n",
              "       False, False, False])"
            ]
          },
          "metadata": {},
          "execution_count": 14
        }
      ]
    },
    {
      "cell_type": "markdown",
      "source": [
        "- 배열의 인덱스 기능과 np.where의 출력결과를 활용하여 np.where안에 logical을 사용해주면 2개 조건을 만족시키는 배열의 요소들을 찾아낼 수 있다."
      ],
      "metadata": {
        "id": "bIWb-iDzLDHO"
      }
    },
    {
      "cell_type": "code",
      "source": [
        "arr[np.where(np.logical_and(arr>3,arr%2==0))]"
      ],
      "metadata": {
        "colab": {
          "base_uri": "https://localhost:8080/"
        },
        "id": "P3cKv25S8RYD",
        "outputId": "b3fe7329-6a76-498b-e994-054c1cef0eed"
      },
      "execution_count": 16,
      "outputs": [
        {
          "output_type": "execute_result",
          "data": {
            "text/plain": [
              "array([12, 10,  8,  6,  4])"
            ]
          },
          "metadata": {},
          "execution_count": 16
        }
      ]
    }
  ]
}