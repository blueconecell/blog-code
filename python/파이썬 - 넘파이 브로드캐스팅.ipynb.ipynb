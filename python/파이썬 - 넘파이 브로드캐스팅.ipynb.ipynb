{
  "nbformat": 4,
  "nbformat_minor": 0,
  "metadata": {
    "colab": {
      "name": "numpy_broadcasting.ipynb",
      "provenance": [],
      "collapsed_sections": []
    },
    "kernelspec": {
      "name": "python3",
      "display_name": "Python 3"
    },
    "language_info": {
      "name": "python"
    }
  },
  "cells": [
    {
      "cell_type": "code",
      "execution_count": 1,
      "metadata": {
        "id": "woqG4dRgTzBK"
      },
      "outputs": [],
      "source": [
        "import numpy as np"
      ]
    },
    {
      "cell_type": "code",
      "source": [
        "A = np.arange(3).reshape(3,1)\n",
        "B = np.arange(3).reshape(1,3)\n",
        "print('A :\\n',A)\n",
        "print('B :\\n',B)\n",
        "print(A+B)"
      ],
      "metadata": {
        "colab": {
          "base_uri": "https://localhost:8080/"
        },
        "id": "1G8CaDTUT1si",
        "outputId": "3d675de5-78e3-4001-8611-e805826c54eb"
      },
      "execution_count": 3,
      "outputs": [
        {
          "output_type": "stream",
          "name": "stdout",
          "text": [
            "A :\n",
            " [[0]\n",
            " [1]\n",
            " [2]]\n",
            "B :\n",
            " [[0 1 2]]\n",
            "[[0 1 2]\n",
            " [1 2 3]\n",
            " [2 3 4]]\n"
          ]
        }
      ]
    },
    {
      "cell_type": "markdown",
      "source": [
        "> 넘파이의 브로드캐스팅 기능이 덧셈이 가능하다고 판단하여 행렬간의 덧셈을 해주었다."
      ],
      "metadata": {
        "id": "npxlKxwjUXZH"
      }
    },
    {
      "cell_type": "code",
      "source": [
        "a = np.array([1,2,3,4,5])\n",
        "b = np.array([1,2])\n",
        "print('a :\\n',a)\n",
        "print('b :\\n',b)\n",
        "print(a+b)"
      ],
      "metadata": {
        "colab": {
          "base_uri": "https://localhost:8080/",
          "height": 283
        },
        "id": "GzPhFjQXT9Qv",
        "outputId": "2fb771ba-3ae5-4236-c31c-4ede9612d1fc"
      },
      "execution_count": 6,
      "outputs": [
        {
          "output_type": "stream",
          "name": "stdout",
          "text": [
            "a :\n",
            " [1 2 3 4 5]\n",
            "b :\n",
            " [1 2]\n"
          ]
        },
        {
          "output_type": "error",
          "ename": "ValueError",
          "evalue": "ignored",
          "traceback": [
            "\u001b[0;31m---------------------------------------------------------------------------\u001b[0m",
            "\u001b[0;31mValueError\u001b[0m                                Traceback (most recent call last)",
            "\u001b[0;32m<ipython-input-6-d132421e8940>\u001b[0m in \u001b[0;36m<module>\u001b[0;34m()\u001b[0m\n\u001b[1;32m      3\u001b[0m \u001b[0mprint\u001b[0m\u001b[0;34m(\u001b[0m\u001b[0;34m'a :\\n'\u001b[0m\u001b[0;34m,\u001b[0m\u001b[0ma\u001b[0m\u001b[0;34m)\u001b[0m\u001b[0;34m\u001b[0m\u001b[0;34m\u001b[0m\u001b[0m\n\u001b[1;32m      4\u001b[0m \u001b[0mprint\u001b[0m\u001b[0;34m(\u001b[0m\u001b[0;34m'b :\\n'\u001b[0m\u001b[0;34m,\u001b[0m\u001b[0mb\u001b[0m\u001b[0;34m)\u001b[0m\u001b[0;34m\u001b[0m\u001b[0;34m\u001b[0m\u001b[0m\n\u001b[0;32m----> 5\u001b[0;31m \u001b[0mprint\u001b[0m\u001b[0;34m(\u001b[0m\u001b[0ma\u001b[0m\u001b[0;34m+\u001b[0m\u001b[0mb\u001b[0m\u001b[0;34m)\u001b[0m\u001b[0;34m\u001b[0m\u001b[0;34m\u001b[0m\u001b[0m\n\u001b[0m",
            "\u001b[0;31mValueError\u001b[0m: operands could not be broadcast together with shapes (5,) (2,) "
          ]
        }
      ]
    },
    {
      "cell_type": "markdown",
      "source": [
        "> 반면에 위 코드처럼 넘파이의 브로드캐스팅 기능이 덧셈이 불가능하다고 판단하면 오류가 발생한다."
      ],
      "metadata": {
        "id": "CV6OIjEdUg3P"
      }
    },
    {
      "cell_type": "markdown",
      "source": [
        "> 브로드캐스팅은 모양이 다른 배열들 간의 연산이 어떤 조건을 만족했을 때 가능하도록 배열을 자동적으로 변환하는 것이라고 생각할 수 있다.\n",
        "- 브로드캐스팅은 배열의 차원의 크기가 1일때 가능하다.\n",
        "- 차원의 짝이 맞을 때 가능하다.\n"
      ],
      "metadata": {
        "id": "fg2sSwDBU2wY"
      }
    },
    {
      "cell_type": "code",
      "source": [
        ""
      ],
      "metadata": {
        "id": "FjwAaCf6UOkW"
      },
      "execution_count": null,
      "outputs": []
    }
  ]
}