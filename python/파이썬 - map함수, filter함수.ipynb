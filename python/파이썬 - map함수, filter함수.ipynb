{
 "cells": [
  {
   "cell_type": "markdown",
   "id": "4f18e054",
   "metadata": {
    "papermill": {
     "duration": 0.004682,
     "end_time": "2022-03-25T15:04:54.551755",
     "exception": false,
     "start_time": "2022-03-25T15:04:54.547073",
     "status": "completed"
    },
    "tags": []
   },
   "source": [
    "# Python 파이썬 ```map()```함수, ```filter()```함수 비교\n",
    "#  \n",
    "\n",
    "\n",
    "- 주어진 배열에 있는 정수들 중에서 양수만 뽑아서 출력하는 함수 만들기\n"
   ]
  },
  {
   "cell_type": "code",
   "execution_count": 1,
   "id": "96d3aae5",
   "metadata": {
    "execution": {
     "iopub.execute_input": "2022-03-25T15:04:54.568663Z",
     "iopub.status.busy": "2022-03-25T15:04:54.568069Z",
     "iopub.status.idle": "2022-03-25T15:04:54.576160Z",
     "shell.execute_reply": "2022-03-25T15:04:54.576693Z",
     "shell.execute_reply.started": "2022-03-25T15:04:31.411482Z"
    },
    "papermill": {
     "duration": 0.0209,
     "end_time": "2022-03-25T15:04:54.576970",
     "exception": false,
     "start_time": "2022-03-25T15:04:54.556070",
     "status": "completed"
    },
    "tags": []
   },
   "outputs": [
    {
     "data": {
      "text/plain": [
       "[False, True, True, False, True, False]"
      ]
     },
     "execution_count": 1,
     "metadata": {},
     "output_type": "execute_result"
    }
   ],
   "source": [
    "def positive_list(a):\n",
    "  def positive(n):\n",
    "    return n>0\n",
    "    \n",
    "  ans = list(map(positive, a))\n",
    "  return ans\n",
    "\n",
    "positive_list([-1, 1, 2, -2, 3, -3])"
   ]
  },
  {
   "cell_type": "code",
   "execution_count": 2,
   "id": "daebabc7",
   "metadata": {
    "execution": {
     "iopub.execute_input": "2022-03-25T15:04:54.589487Z",
     "iopub.status.busy": "2022-03-25T15:04:54.588636Z",
     "iopub.status.idle": "2022-03-25T15:04:54.596985Z",
     "shell.execute_reply": "2022-03-25T15:04:54.596311Z",
     "shell.execute_reply.started": "2022-03-25T15:04:31.433311Z"
    },
    "papermill": {
     "duration": 0.015284,
     "end_time": "2022-03-25T15:04:54.597142",
     "exception": false,
     "start_time": "2022-03-25T15:04:54.581858",
     "status": "completed"
    },
    "tags": []
   },
   "outputs": [
    {
     "data": {
      "text/plain": [
       "[1, 2, 3]"
      ]
     },
     "execution_count": 2,
     "metadata": {},
     "output_type": "execute_result"
    }
   ],
   "source": [
    "def positive_list(a):\n",
    "  def positive(n):\n",
    "    return n>0\n",
    "    \n",
    "  ans = list(filter(positive, a))\n",
    "  return ans\n",
    "\n",
    "positive_list([-1, 1, 2, -2, 3, -3])"
   ]
  },
  {
   "cell_type": "markdown",
   "id": "968cc8f5",
   "metadata": {
    "papermill": {
     "duration": 0.006263,
     "end_time": "2022-03-25T15:04:54.610455",
     "exception": false,
     "start_time": "2022-03-25T15:04:54.604192",
     "status": "completed"
    },
    "tags": []
   },
   "source": [
    "- 같은 구조로 ```map```과 ```filter```만 다르게 써봤다.\n",
    "- ```map``` 사용하니 배열에 대한 함수의 ```return```값을 출력하는 것을 볼 수 있다.\n",
    "- ```filter``` 사용하니 배열에 대한 함수의 ```True``` 값만을 출력하는 것을 볼 수 있다. \n",
    "\n",
    "## Higher-Order Function\n",
    "- 고차함수 또는 고계함수라고 부른다\n",
    "- 함수를 다루는 함수이다.\n",
    "- map함수와 filter함수는 파이썬의 고차함수중에 하나이다.\n",
    "## \n",
    "# \n",
    "- 아래 두 조건을 만족하면 고차함수라고 할 수 있다.\n",
    "1. 하나 이상의 함수를 인자로 받는다.\n",
    "2. 한 수를 결과로 반환한다."
   ]
  }
 ],
 "metadata": {
  "kernelspec": {
   "display_name": "Python 3",
   "language": "python",
   "name": "python3"
  },
  "language_info": {
   "codemirror_mode": {
    "name": "ipython",
    "version": 3
   },
   "file_extension": ".py",
   "mimetype": "text/x-python",
   "name": "python",
   "nbconvert_exporter": "python",
   "pygments_lexer": "ipython3",
   "version": "3.7.12"
  },
  "papermill": {
   "default_parameters": {},
   "duration": 8.636232,
   "end_time": "2022-03-25T15:04:55.227946",
   "environment_variables": {},
   "exception": null,
   "input_path": "__notebook__.ipynb",
   "output_path": "__notebook__.ipynb",
   "parameters": {},
   "start_time": "2022-03-25T15:04:46.591714",
   "version": "2.3.3"
  }
 },
 "nbformat": 4,
 "nbformat_minor": 5
}
