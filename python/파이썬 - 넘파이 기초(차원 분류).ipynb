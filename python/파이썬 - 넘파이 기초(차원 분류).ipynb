{
  "cells": [
    {
      "cell_type": "markdown",
      "metadata": {
        "id": "OKH_HL_LLsi9"
      },
      "source": [
        "> # [서론]\n",
        "\n",
        "자료 출처 : https://betterprogramming.pub/numpy-illustrated-the-visual-guide-to-numpy-3b1d4976de1d\n",
        "\n",
        "## numpy\n",
        "- 넘파이의 주요 컨셉은 n-차원의 행렬이다.\n",
        "1. 1차원 벡터\n",
        "2. 2차원 벡터\n",
        "3. 3차원과 그 이상\n",
        "\n",
        "## 넘파이의 행렬과 파이썬의 배열의 차이점\n",
        "- 차원이 늘어날 수 록 행렬은 배열보다 더 간편하다.\n",
        "- 수직적일때, 배열보다 더 빠르다.\n",
        "- 끝에 요소를 추가할 때 배열보다 느리다.\n",
        "- 한개의 자료형으로 이루어졌을 때 오직 더 빠르게 작동한다."
      ]
    },
    {
      "cell_type": "markdown",
      "metadata": {
        "id": "M4ajthzZNRoD"
      },
      "source": [
        "## 1. 1차원 벡터\n",
        "- 벡터의 초기설정\n"
      ]
    },
    {
      "cell_type": "code",
      "execution_count": 1,
      "metadata": {
        "id": "dgcBciqdLFH4"
      },
      "outputs": [],
      "source": [
        "import numpy as np"
      ]
    },
    {
      "cell_type": "code",
      "execution_count": 2,
      "metadata": {
        "colab": {
          "base_uri": "https://localhost:8080/"
        },
        "id": "943WsM3bNjfZ",
        "outputId": "06d2b558-fe92-48c5-a901-caf74b64e860"
      },
      "outputs": [
        {
          "data": {
            "text/plain": [
              "array([1., 2., 3.])"
            ]
          },
          "execution_count": 2,
          "metadata": {},
          "output_type": "execute_result"
        }
      ],
      "source": [
        "a = np.array([1.,2.,3.])\n",
        "a"
      ]
    },
    {
      "cell_type": "markdown",
      "metadata": {
        "id": "uNsIZ3UpN4I_"
      },
      "source": [
        "- 행렬은 배열과 달리 끝에 요소를 추가할 때 속도가 느리기 때문에 빠른 속도를 위해서는 zeros나 empty를 통해 미리 필요한 공간을 할당하는편이 좋다."
      ]
    },
    {
      "cell_type": "code",
      "execution_count": 3,
      "metadata": {
        "colab": {
          "base_uri": "https://localhost:8080/"
        },
        "id": "8tzW_xGDNmfv",
        "outputId": "ee6bb2df-7d85-452f-dc8f-0240faf8fadb"
      },
      "outputs": [
        {
          "data": {
            "text/plain": [
              "array([0, 0, 0])"
            ]
          },
          "execution_count": 3,
          "metadata": {},
          "output_type": "execute_result"
        }
      ],
      "source": [
        "b = np.zeros(3,int)\n",
        "b"
      ]
    },
    {
      "cell_type": "code",
      "execution_count": 4,
      "metadata": {
        "colab": {
          "base_uri": "https://localhost:8080/"
        },
        "id": "8zWDu7c-OJwA",
        "outputId": "feb881fd-fa18-4394-8ac7-8d662ef8bfb3"
      },
      "outputs": [
        {
          "data": {
            "text/plain": [
              "array([1., 1., 1.])"
            ]
          },
          "execution_count": 4,
          "metadata": {},
          "output_type": "execute_result"
        }
      ],
      "source": [
        "b = np.ones(3)\n",
        "b"
      ]
    },
    {
      "cell_type": "code",
      "execution_count": 5,
      "metadata": {
        "colab": {
          "base_uri": "https://localhost:8080/"
        },
        "id": "uW5KnbmyOMjh",
        "outputId": "dc60180f-b2ae-4644-c1e9-cc7a6fdc016c"
      },
      "outputs": [
        {
          "data": {
            "text/plain": [
              "array([1., 1., 1.])"
            ]
          },
          "execution_count": 5,
          "metadata": {},
          "output_type": "execute_result"
        }
      ],
      "source": [
        "b = np.empty(3)\n",
        "b"
      ]
    },
    {
      "cell_type": "code",
      "execution_count": 6,
      "metadata": {
        "colab": {
          "base_uri": "https://localhost:8080/"
        },
        "id": "wRaa5csLOffl",
        "outputId": "fc91a0b3-c696-4621-f385-4196bbf84e6b"
      },
      "outputs": [
        {
          "data": {
            "text/plain": [
              "array([7, 7, 7])"
            ]
          },
          "execution_count": 6,
          "metadata": {},
          "output_type": "execute_result"
        }
      ],
      "source": [
        "b = np.full(3,7)\n",
        "b"
      ]
    },
    {
      "cell_type": "markdown",
      "metadata": {
        "id": "8XbU1E-wOslf"
      },
      "source": [
        "- _like를 위 메소드들에게 붙여서 매개변수로 따라하고 싶은 행렬을 넣어주면 그 행렬과 같은 shape 의 행렬을 할당해준다"
      ]
    },
    {
      "cell_type": "code",
      "execution_count": 7,
      "metadata": {
        "colab": {
          "base_uri": "https://localhost:8080/"
        },
        "id": "FmDATXD3Oc30",
        "outputId": "21a30422-d3f1-4ebe-96a1-c41ef3f87251"
      },
      "outputs": [
        {
          "data": {
            "text/plain": [
              "array([1., 1., 1.])"
            ]
          },
          "execution_count": 7,
          "metadata": {},
          "output_type": "execute_result"
        }
      ],
      "source": [
        "b = np.ones_like(a)\n",
        "b"
      ]
    },
    {
      "cell_type": "markdown",
      "metadata": {
        "id": "vLwB0M1IPoWK"
      },
      "source": [
        "- float형태의 부동소수점 배열이 필요한 경우  agrang를 통해 만들어줄 수 있다.\n",
        "- 하지만 arange는 float을 처리하는데 그리 좋지는 않다."
      ]
    },
    {
      "cell_type": "code",
      "execution_count": 8,
      "metadata": {
        "colab": {
          "base_uri": "https://localhost:8080/"
        },
        "id": "lNjGhxgWPZJA",
        "outputId": "8b91ae3a-50f4-4160-a874-bb65b2042f24"
      },
      "outputs": [
        {
          "data": {
            "text/plain": [
              "array([0.4, 0.5, 0.6, 0.7])"
            ]
          },
          "execution_count": 8,
          "metadata": {},
          "output_type": "execute_result"
        }
      ],
      "source": [
        "np.arange(0.4,0.8,0.1)"
      ]
    },
    {
      "cell_type": "code",
      "execution_count": 9,
      "metadata": {
        "colab": {
          "base_uri": "https://localhost:8080/"
        },
        "id": "yZPMFiK8QAbl",
        "outputId": "ec86cec7-591b-4c14-e9ce-9cf9780dd03f"
      },
      "outputs": [
        {
          "data": {
            "text/plain": [
              "array([0.5, 0.6, 0.7, 0.8])"
            ]
          },
          "execution_count": 9,
          "metadata": {},
          "output_type": "execute_result"
        }
      ],
      "source": [
        "np.arange(0.5,0.8,0.1)"
      ]
    },
    {
      "cell_type": "markdown",
      "metadata": {
        "id": "ixbazpzpQIFf"
      },
      "source": [
        "- 부동소수점이 가진 단점 때문에 위 두 코드의 결과 행렬의 끝원소가 지시한 것과는 다른 결과를 도출한다.\n",
        "- 하지만 이 문제를 linspace를 이용하면 된다."
      ]
    },
    {
      "cell_type": "code",
      "execution_count": 10,
      "metadata": {
        "colab": {
          "base_uri": "https://localhost:8080/"
        },
        "id": "WZ7Y3VBTQHw2",
        "outputId": "8e20c07a-1840-41e1-cc04-81aeabaf7d12"
      },
      "outputs": [
        {
          "data": {
            "text/plain": [
              "array([0. , 0.1, 0.2, 0.3, 0.4, 0.5, 0.6, 0.7, 0.8, 0.9, 1. ])"
            ]
          },
          "execution_count": 10,
          "metadata": {},
          "output_type": "execute_result"
        }
      ],
      "source": [
        "np.linspace(0, 1, 11)"
      ]
    },
    {
      "cell_type": "markdown",
      "metadata": {
        "id": "2SHV2UzeRtaK"
      },
      "source": [
        "## 벡터 인덱싱\n",
        "- 행렬의 인덱싱은 views 방식으로 가져오기 때문에 원본 데이터가 수정될 수 있다.\n",
        "- 행렬을 복사하고 싶다면 .copy()를 통해서 복사해야한다."
      ]
    },
    {
      "cell_type": "code",
      "execution_count": 11,
      "metadata": {
        "id": "IJNO8cZKQE8W"
      },
      "outputs": [],
      "source": [
        "a = np.array([1,2,3])\n",
        "b = a        # 복사 아님 \n",
        "c = a[:]      # 복사 아님\n",
        "d = a.copy() # 복사"
      ]
    },
    {
      "cell_type": "markdown",
      "metadata": {
        "id": "LrLa6HOlS2xS"
      },
      "source": [
        "## 벡터 연산\n",
        "- 벡터 연산은 c++수준으로 빠른 속도의 계산을 가능하게 해준다"
      ]
    },
    {
      "cell_type": "code",
      "execution_count": 12,
      "metadata": {
        "colab": {
          "base_uri": "https://localhost:8080/"
        },
        "id": "OZWW0lsBSlPc",
        "outputId": "f26065c4-aae4-44d3-cbcc-1e17e2a703b5"
      },
      "outputs": [
        {
          "data": {
            "text/plain": [
              "array([4, 6])"
            ]
          },
          "execution_count": 12,
          "metadata": {},
          "output_type": "execute_result"
        }
      ],
      "source": [
        "np.array([1,2])+np.array([3,4])"
      ]
    },
    {
      "cell_type": "markdown",
      "metadata": {
        "id": "faAyEJxpTwlL"
      },
      "source": [
        "- 정수 자료형은 broadcasting 이 되어, 스칼라가 벡터로 승격된다."
      ]
    },
    {
      "cell_type": "code",
      "execution_count": 13,
      "metadata": {
        "colab": {
          "base_uri": "https://localhost:8080/"
        },
        "id": "u92enmBKTvEX",
        "outputId": "a9e4a66a-49ce-473e-eb9e-f99f255804c9"
      },
      "outputs": [
        {
          "data": {
            "text/plain": [
              "array([11, 12])"
            ]
          },
          "execution_count": 13,
          "metadata": {},
          "output_type": "execute_result"
        }
      ],
      "source": [
        "np.array([1,2]) + 10"
      ]
    },
    {
      "cell_type": "markdown",
      "metadata": {
        "id": "rIgFjpWdUGpv"
      },
      "source": [
        "- 대부분의 수학기능이 있다.\n",
        "- 스칼라 곱에는 자체 연산자가 있다."
      ]
    },
    {
      "cell_type": "code",
      "execution_count": 14,
      "metadata": {
        "id": "B8IPLy4YUR1P"
      },
      "outputs": [],
      "source": [
        "a = np.array([1,2])"
      ]
    },
    {
      "cell_type": "code",
      "execution_count": 15,
      "metadata": {
        "colab": {
          "base_uri": "https://localhost:8080/"
        },
        "id": "2pYdN1imT_Sn",
        "outputId": "69d0b969-42cb-4b68-a9c6-a23233dde896"
      },
      "outputs": [
        {
          "name": "stdout",
          "output_type": "stream",
          "text": [
            "[1 4]\n"
          ]
        }
      ],
      "source": [
        "print(a**2)"
      ]
    },
    {
      "cell_type": "code",
      "execution_count": 16,
      "metadata": {
        "colab": {
          "base_uri": "https://localhost:8080/"
        },
        "id": "KmNHdaNmUadI",
        "outputId": "c0db3dbb-f318-44fe-81cf-a9bafbff83a3"
      },
      "outputs": [
        {
          "name": "stdout",
          "output_type": "stream",
          "text": [
            "[2. 3.]\n"
          ]
        }
      ],
      "source": [
        "print(np.sqrt([4,9]))"
      ]
    },
    {
      "cell_type": "code",
      "execution_count": 17,
      "metadata": {
        "colab": {
          "base_uri": "https://localhost:8080/"
        },
        "id": "bqmp9W3DUcEJ",
        "outputId": "1bf69ebd-5cc8-49fa-c31a-e901dffa2b5b"
      },
      "outputs": [
        {
          "name": "stdout",
          "output_type": "stream",
          "text": [
            "[2.71828183 7.3890561 ]\n"
          ]
        }
      ],
      "source": [
        "print(np.exp(a))"
      ]
    },
    {
      "cell_type": "code",
      "execution_count": 18,
      "metadata": {
        "colab": {
          "base_uri": "https://localhost:8080/"
        },
        "id": "JKdtv6NvUjPg",
        "outputId": "eb048595-03ce-43f4-a9dc-790617368508"
      },
      "outputs": [
        {
          "name": "stdout",
          "output_type": "stream",
          "text": [
            "[ 1.  2. 10.]\n"
          ]
        }
      ],
      "source": [
        "print(np.log(np.array([np.e,np.e**2,np.e**10])))"
      ]
    },
    {
      "cell_type": "code",
      "execution_count": 19,
      "metadata": {
        "colab": {
          "base_uri": "https://localhost:8080/"
        },
        "id": "QVa9YPpyUk-z",
        "outputId": "b7e67819-88da-4411-8561-5d98b1867ee4"
      },
      "outputs": [
        {
          "data": {
            "text/plain": [
              "11"
            ]
          },
          "execution_count": 19,
          "metadata": {},
          "output_type": "execute_result"
        }
      ],
      "source": [
        "# 스칼라\n",
        "a = np.array([1,2])\n",
        "b = np.array([3,4])\n",
        "np.dot(a,b)"
      ]
    },
    {
      "cell_type": "code",
      "execution_count": 20,
      "metadata": {
        "colab": {
          "base_uri": "https://localhost:8080/"
        },
        "id": "M8YSyXcXVAfW",
        "outputId": "95887c94-3518-42bf-cbd9-a2fb2a934130"
      },
      "outputs": [
        {
          "data": {
            "text/plain": [
              "11"
            ]
          },
          "execution_count": 20,
          "metadata": {},
          "output_type": "execute_result"
        }
      ],
      "source": [
        "a@b"
      ]
    },
    {
      "cell_type": "code",
      "execution_count": null,
      "metadata": {
        "colab": {
          "base_uri": "https://localhost:8080/"
        },
        "id": "EoS46IDTVElV",
        "outputId": "126716a5-172a-4c20-bb52-073c4e960a04"
      },
      "outputs": [
        {
          "data": {
            "text/plain": [
              "array(-2)"
            ]
          },
          "execution_count": 46,
          "metadata": {},
          "output_type": "execute_result"
        }
      ],
      "source": [
        "np.cross(a,b)"
      ]
    },
    {
      "cell_type": "code",
      "execution_count": null,
      "metadata": {
        "colab": {
          "base_uri": "https://localhost:8080/"
        },
        "id": "3JXt8xlYVJJG",
        "outputId": "a6ced405-ae46-4e5c-fc23-93ac0c4806bf"
      },
      "outputs": [
        {
          "data": {
            "text/plain": [
              "array([0.        , 1.57079633])"
            ]
          },
          "execution_count": 47,
          "metadata": {},
          "output_type": "execute_result"
        }
      ],
      "source": [
        "# 삼각함수도 가능하다\n",
        "np.arcsin(np.array([0.,1.]))"
      ]
    },
    {
      "cell_type": "markdown",
      "metadata": {
        "id": "SX8JUCG1Vdl-"
      },
      "source": [
        "- 행렬은 반올림도 된다."
      ]
    },
    {
      "cell_type": "code",
      "execution_count": null,
      "metadata": {
        "colab": {
          "base_uri": "https://localhost:8080/"
        },
        "id": "t75JyFHmVZAK",
        "outputId": "3fa4da38-b294-4cde-e57b-148041c6addf"
      },
      "outputs": [
        {
          "data": {
            "text/plain": [
              "array([1., 1., 1., 2.])"
            ]
          },
          "execution_count": 3,
          "metadata": {},
          "output_type": "execute_result"
        }
      ],
      "source": [
        "a = np.array([1.1, 1.5, 1.9, 2.5])\n",
        "np.floor(a)"
      ]
    },
    {
      "cell_type": "code",
      "execution_count": null,
      "metadata": {
        "colab": {
          "base_uri": "https://localhost:8080/"
        },
        "id": "8WgiqiTnyj8b",
        "outputId": "ca95dd2e-495d-4c0c-ae5b-93456e6ade74"
      },
      "outputs": [
        {
          "data": {
            "text/plain": [
              "array([2., 2., 2., 3.])"
            ]
          },
          "execution_count": 4,
          "metadata": {},
          "output_type": "execute_result"
        }
      ],
      "source": [
        "np.ceil(a)"
      ]
    },
    {
      "cell_type": "code",
      "execution_count": null,
      "metadata": {
        "colab": {
          "base_uri": "https://localhost:8080/"
        },
        "id": "wRDJclP1yrDK",
        "outputId": "8cddd095-0c34-4530-9252-9b257a4bd8fd"
      },
      "outputs": [
        {
          "data": {
            "text/plain": [
              "array([1., 2., 2., 2.])"
            ]
          },
          "execution_count": 5,
          "metadata": {},
          "output_type": "execute_result"
        }
      ],
      "source": [
        "np.round(a)"
      ]
    },
    {
      "cell_type": "markdown",
      "metadata": {
        "id": "Y6uhyASnyxtA"
      },
      "source": [
        "- 기본적인 통계도 가능하다."
      ]
    },
    {
      "cell_type": "code",
      "execution_count": null,
      "metadata": {
        "colab": {
          "base_uri": "https://localhost:8080/"
        },
        "id": "UTeLVhJ6ytHO",
        "outputId": "d0bb07f4-eb37-4f6a-ac93-da9afdb5ceb3"
      },
      "outputs": [
        {
          "data": {
            "text/plain": [
              "3"
            ]
          },
          "execution_count": 6,
          "metadata": {},
          "output_type": "execute_result"
        }
      ],
      "source": [
        "a = np.array([1,2,3])\n",
        "np.max(a)"
      ]
    },
    {
      "cell_type": "code",
      "execution_count": null,
      "metadata": {
        "colab": {
          "base_uri": "https://localhost:8080/"
        },
        "id": "6NFHwtlozjnd",
        "outputId": "63945d6a-95c2-4067-fa09-c2a8af7fffab"
      },
      "outputs": [
        {
          "data": {
            "text/plain": [
              "3"
            ]
          },
          "execution_count": 7,
          "metadata": {},
          "output_type": "execute_result"
        }
      ],
      "source": [
        "a.max()"
      ]
    },
    {
      "cell_type": "code",
      "execution_count": null,
      "metadata": {
        "colab": {
          "base_uri": "https://localhost:8080/"
        },
        "id": "B0aVJFAUzmA6",
        "outputId": "84dd6c6a-8a58-49d7-f1c7-6bf8fbe53735"
      },
      "outputs": [
        {
          "data": {
            "text/plain": [
              "1"
            ]
          },
          "execution_count": 8,
          "metadata": {},
          "output_type": "execute_result"
        }
      ],
      "source": [
        "a.min()"
      ]
    },
    {
      "cell_type": "code",
      "execution_count": null,
      "metadata": {
        "colab": {
          "base_uri": "https://localhost:8080/"
        },
        "id": "cCFdiw7lzn3O",
        "outputId": "9eabdf7e-d3c8-4323-fd74-34071d740f3f"
      },
      "outputs": [
        {
          "data": {
            "text/plain": [
              "6"
            ]
          },
          "execution_count": 10,
          "metadata": {},
          "output_type": "execute_result"
        }
      ],
      "source": [
        "a.sum()"
      ]
    },
    {
      "cell_type": "code",
      "execution_count": null,
      "metadata": {
        "colab": {
          "base_uri": "https://localhost:8080/"
        },
        "id": "n3XcIVJezom7",
        "outputId": "3aa08553-048c-4f10-8b0e-d097b4a01434"
      },
      "outputs": [
        {
          "data": {
            "text/plain": [
              "0.6666666666666666"
            ]
          },
          "execution_count": 11,
          "metadata": {},
          "output_type": "execute_result"
        }
      ],
      "source": [
        "a.var()"
      ]
    },
    {
      "cell_type": "code",
      "execution_count": null,
      "metadata": {
        "colab": {
          "base_uri": "https://localhost:8080/"
        },
        "id": "4LrnnndCzqxf",
        "outputId": "7a4c2c8b-8abe-4d9e-aebf-4afffedd8a45"
      },
      "outputs": [
        {
          "data": {
            "text/plain": [
              "2"
            ]
          },
          "execution_count": 12,
          "metadata": {},
          "output_type": "execute_result"
        }
      ],
      "source": [
        "a.argmax()"
      ]
    },
    {
      "cell_type": "code",
      "execution_count": null,
      "metadata": {
        "colab": {
          "base_uri": "https://localhost:8080/"
        },
        "id": "1nK0ZP8Tzw8a",
        "outputId": "bea0bce3-5a39-4ac2-9e1f-ea7b02bdaecd"
      },
      "outputs": [
        {
          "data": {
            "text/plain": [
              "0"
            ]
          },
          "execution_count": 13,
          "metadata": {},
          "output_type": "execute_result"
        }
      ],
      "source": [
        "a.argmin()"
      ]
    },
    {
      "cell_type": "code",
      "execution_count": null,
      "metadata": {
        "colab": {
          "base_uri": "https://localhost:8080/"
        },
        "id": "w90L42FvzyMp",
        "outputId": "df494e5a-fd0e-4383-e630-3345e4f4dbbf"
      },
      "outputs": [
        {
          "data": {
            "text/plain": [
              "2.0"
            ]
          },
          "execution_count": 14,
          "metadata": {},
          "output_type": "execute_result"
        }
      ],
      "source": [
        "a.mean()"
      ]
    },
    {
      "cell_type": "code",
      "execution_count": null,
      "metadata": {
        "colab": {
          "base_uri": "https://localhost:8080/"
        },
        "id": "diq9Ir3MzzYw",
        "outputId": "e3cd601c-64c3-47ac-b8d0-816c5307bf36"
      },
      "outputs": [
        {
          "data": {
            "text/plain": [
              "0.816496580927726"
            ]
          },
          "execution_count": 15,
          "metadata": {},
          "output_type": "execute_result"
        }
      ],
      "source": [
        "a.std()"
      ]
    },
    {
      "cell_type": "markdown",
      "metadata": {
        "id": "L7fLR9XAz6oV"
      },
      "source": [
        "- std, car 둘다 Bessel's correction을 무시하고 편향된 결과를 도출한다.\n",
        "- 덜 편향된 결과를 도출하기 위한 전형적인 접근은 분모에 포함시키는 것이다."
      ]
    },
    {
      "cell_type": "code",
      "execution_count": null,
      "metadata": {
        "colab": {
          "base_uri": "https://localhost:8080/"
        },
        "id": "JRH2ZU5kz0ID",
        "outputId": "242e46b8-9f6c-40bb-9e77-d3131f435090"
      },
      "outputs": [
        {
          "data": {
            "text/plain": [
              "0.816496580927726"
            ]
          },
          "execution_count": 16,
          "metadata": {},
          "output_type": "execute_result"
        }
      ],
      "source": [
        "a = np.array([1,2,3])\n",
        "a.std()"
      ]
    },
    {
      "cell_type": "code",
      "execution_count": null,
      "metadata": {
        "colab": {
          "base_uri": "https://localhost:8080/"
        },
        "id": "tGy7TJpg0V9P",
        "outputId": "5ee223e2-f19b-4d83-f8c9-c054934fc3f2"
      },
      "outputs": [
        {
          "data": {
            "text/plain": [
              "1.0"
            ]
          },
          "execution_count": 17,
          "metadata": {},
          "output_type": "execute_result"
        }
      ],
      "source": [
        "a.std(ddof=1)"
      ]
    },
    {
      "cell_type": "code",
      "execution_count": null,
      "metadata": {
        "colab": {
          "base_uri": "https://localhost:8080/"
        },
        "id": "DAjUuNJK0XZt",
        "outputId": "4e3199f0-94bd-4b82-a8e7-47c90a341f30"
      },
      "outputs": [
        {
          "data": {
            "text/plain": [
              "1.0"
            ]
          },
          "execution_count": 18,
          "metadata": {},
          "output_type": "execute_result"
        }
      ],
      "source": [
        "import pandas as pd\n",
        "pd.Series(a).std()"
      ]
    },
    {
      "cell_type": "markdown",
      "metadata": {
        "id": "kQLTc2nT0hVJ"
      },
      "source": [
        "- 샘플의 크기가 증가할수록 Bessel's correction의 효과는 빠르게 감소한다."
      ]
    },
    {
      "cell_type": "markdown",
      "metadata": {
        "id": "eboozTHs0wxt"
      },
      "source": [
        "- sort 함수는 파이썬함수보다 기능이 적다.\n",
        "- 1차원의 경우는 reversed키워드를 통해 보완할 수 있지만 2차원부터는 까다롭다."
      ]
    },
    {
      "cell_type": "markdown",
      "metadata": {
        "id": "Ou9DdqSU1CeA"
      },
      "source": [
        "## 벡터에서 요소검색\n",
        "- 파이썬의 배열과 달리 넘파이의 행렬은 index 매서드가 없다.\n",
        "- ```np.where(a==x)[0][0]``` 은 요소를 찾는 방법중 하나이다. 하지만 찾고자 하는 요소가 맨 처음에 있어도 행렬의 모든것을 다 찾아보기 때문에 느리고 비효율적이다.\n",
        "- 사실 C로 구현하는 것으로 검색하는 속도는 문제가 되지 않는다. 문제는 float 비교이다."
      ]
    },
    {
      "cell_type": "markdown",
      "metadata": {
        "id": "DaglS82B2XfA"
      },
      "source": [
        "## 부동소수점 비교\n",
        "- np.allclose(a,b)함수로 주어진 허용오차내로 부동소수점 행렬을 비교한다."
      ]
    },
    {
      "cell_type": "code",
      "execution_count": null,
      "metadata": {
        "colab": {
          "base_uri": "https://localhost:8080/"
        },
        "id": "BSncds981gjY",
        "outputId": "afc913c7-25be-408c-cd68-0350898d9791"
      },
      "outputs": [
        {
          "data": {
            "text/plain": [
              "False"
            ]
          },
          "execution_count": 20,
          "metadata": {},
          "output_type": "execute_result"
        }
      ],
      "source": [
        "0.1 +0.2 == 0.3"
      ]
    },
    {
      "cell_type": "code",
      "execution_count": null,
      "metadata": {
        "colab": {
          "base_uri": "https://localhost:8080/"
        },
        "id": "M5p__Kwl2qPS",
        "outputId": "3a2fea65-2e0b-4a3f-c218-c0cd98c9d350"
      },
      "outputs": [
        {
          "data": {
            "text/plain": [
              "True"
            ]
          },
          "execution_count": 21,
          "metadata": {},
          "output_type": "execute_result"
        }
      ],
      "source": [
        "np.allclose(0.1 + 0.2, 0.3)"
      ]
    },
    {
      "cell_type": "code",
      "execution_count": null,
      "metadata": {
        "colab": {
          "base_uri": "https://localhost:8080/"
        },
        "id": "6KkPIffH2vGH",
        "outputId": "8e489bbe-3e43-4d99-f7e5-b92ae7c23461"
      },
      "outputs": [
        {
          "data": {
            "text/plain": [
              "True"
            ]
          },
          "execution_count": 22,
          "metadata": {},
          "output_type": "execute_result"
        }
      ],
      "source": [
        "import math\n",
        "math.isclose(0.1 + 0.2, 0.3)"
      ]
    },
    {
      "cell_type": "code",
      "execution_count": null,
      "metadata": {
        "colab": {
          "base_uri": "https://localhost:8080/"
        },
        "id": "O-yEjYpF21Yo",
        "outputId": "27cc77d5-f525-4623-8ddc-918389745462"
      },
      "outputs": [
        {
          "data": {
            "text/plain": [
              "False"
            ]
          },
          "execution_count": 25,
          "metadata": {},
          "output_type": "execute_result"
        }
      ],
      "source": [
        "1e-9 == 2e-9"
      ]
    },
    {
      "cell_type": "code",
      "execution_count": null,
      "metadata": {
        "colab": {
          "base_uri": "https://localhost:8080/"
        },
        "id": "AGTMPZTd241V",
        "outputId": "60b5d82b-dce9-4072-9992-0a00c7af9fc6"
      },
      "outputs": [
        {
          "data": {
            "text/plain": [
              "True"
            ]
          },
          "execution_count": 26,
          "metadata": {},
          "output_type": "execute_result"
        }
      ],
      "source": [
        "np.allclose(1e-9, 2e-9)"
      ]
    },
    {
      "cell_type": "code",
      "execution_count": null,
      "metadata": {
        "colab": {
          "base_uri": "https://localhost:8080/"
        },
        "id": "KCSZ_hVl3AnQ",
        "outputId": "10bdb863-8ac5-494b-8c3d-256cdc28f3f1"
      },
      "outputs": [
        {
          "data": {
            "text/plain": [
              "False"
            ]
          },
          "execution_count": 27,
          "metadata": {},
          "output_type": "execute_result"
        }
      ],
      "source": [
        "math.isclose(1e-9, 2e-9)"
      ]
    },
    {
      "cell_type": "code",
      "execution_count": null,
      "metadata": {
        "colab": {
          "base_uri": "https://localhost:8080/"
        },
        "id": "UlbI4-7X4Jgt",
        "outputId": "7a8ac4cb-1aab-4193-bbcf-d26bc572b2d1"
      },
      "outputs": [
        {
          "data": {
            "text/plain": [
              "False"
            ]
          },
          "execution_count": 29,
          "metadata": {},
          "output_type": "execute_result"
        }
      ],
      "source": [
        "0.1 + 0.2 -0.3 == 0"
      ]
    },
    {
      "cell_type": "code",
      "execution_count": null,
      "metadata": {
        "colab": {
          "base_uri": "https://localhost:8080/"
        },
        "id": "INLgx2GK4NKD",
        "outputId": "964e81dd-46eb-422f-9a3f-255e3607c5e4"
      },
      "outputs": [
        {
          "data": {
            "text/plain": [
              "True"
            ]
          },
          "execution_count": 31,
          "metadata": {},
          "output_type": "execute_result"
        }
      ],
      "source": [
        "np.allclose(0.1 + 0.2 - 0.3,0)"
      ]
    },
    {
      "cell_type": "code",
      "execution_count": null,
      "metadata": {
        "colab": {
          "base_uri": "https://localhost:8080/"
        },
        "id": "cElXdZ_Z4aDK",
        "outputId": "5f81a12d-240c-4716-aee8-c113740fc30a"
      },
      "outputs": [
        {
          "data": {
            "text/plain": [
              "False"
            ]
          },
          "execution_count": 32,
          "metadata": {},
          "output_type": "execute_result"
        }
      ],
      "source": [
        "math.isclose(0.1 + 0.2 - 0.3,0) # 문제발생"
      ]
    },
    {
      "cell_type": "code",
      "execution_count": null,
      "metadata": {
        "colab": {
          "base_uri": "https://localhost:8080/"
        },
        "id": "g5S5Q1KH5HVx",
        "outputId": "93ac4706-04aa-496e-8728-babe737bed05"
      },
      "outputs": [
        {
          "data": {
            "text/plain": [
              "True"
            ]
          },
          "execution_count": 37,
          "metadata": {},
          "output_type": "execute_result"
        }
      ],
      "source": [
        "np.allclose(1e-9, 2e-9, atol=1e-17) == False"
      ]
    },
    {
      "cell_type": "markdown",
      "metadata": {
        "id": "2F8-Onci4pqL"
      },
      "source": [
        "## 2차원 행렬\n",
        "- 넘파이에는 전용 matrix클래스가 있었지만 더이상 사용하지 않는다\n",
        "- 행렬과 2차원 배열은 같은 의미이다."
      ]
    },
    {
      "cell_type": "code",
      "execution_count": null,
      "metadata": {
        "colab": {
          "base_uri": "https://localhost:8080/"
        },
        "id": "cdAcVnIu4g64",
        "outputId": "17bd3d73-dafc-428a-d321-0a8bc7c52923"
      },
      "outputs": [
        {
          "data": {
            "text/plain": [
              "array([[1, 2, 3],\n",
              "       [4, 5, 6]])"
            ]
          },
          "execution_count": 39,
          "metadata": {},
          "output_type": "execute_result"
        }
      ],
      "source": [
        "a = np.array([[1,2,3],[4,5,6]])\n",
        "a"
      ]
    },
    {
      "cell_type": "code",
      "execution_count": null,
      "metadata": {
        "colab": {
          "base_uri": "https://localhost:8080/"
        },
        "id": "iWgXC20P6HZh",
        "outputId": "4290e535-77cc-493b-c0c3-06e495fac1d5"
      },
      "outputs": [
        {
          "data": {
            "text/plain": [
              "array([[0., 0.],\n",
              "       [0., 0.],\n",
              "       [0., 0.]])"
            ]
          },
          "execution_count": 44,
          "metadata": {},
          "output_type": "execute_result"
        }
      ],
      "source": [
        "np.zeros((3,2))"
      ]
    },
    {
      "cell_type": "code",
      "execution_count": null,
      "metadata": {
        "colab": {
          "base_uri": "https://localhost:8080/"
        },
        "id": "Vg5DU2jT6HVA",
        "outputId": "decec8d0-a18c-42ac-bb75-15b1ad6c588b"
      },
      "outputs": [
        {
          "data": {
            "text/plain": [
              "array([[1., 1.],\n",
              "       [1., 1.],\n",
              "       [1., 1.]])"
            ]
          },
          "execution_count": 46,
          "metadata": {},
          "output_type": "execute_result"
        }
      ],
      "source": [
        "np.ones((3,2))"
      ]
    },
    {
      "cell_type": "code",
      "execution_count": null,
      "metadata": {
        "colab": {
          "base_uri": "https://localhost:8080/"
        },
        "id": "PwQhATFR6M0L",
        "outputId": "e83dc53d-3aba-422c-881e-cd63b5457bbb"
      },
      "outputs": [
        {
          "data": {
            "text/plain": [
              "array([[7, 7],\n",
              "       [7, 7],\n",
              "       [7, 7]])"
            ]
          },
          "execution_count": 47,
          "metadata": {},
          "output_type": "execute_result"
        }
      ],
      "source": [
        "np.full((3,2),7)"
      ]
    },
    {
      "cell_type": "code",
      "execution_count": null,
      "metadata": {
        "colab": {
          "base_uri": "https://localhost:8080/"
        },
        "id": "VKvYEzfJ6Mxt",
        "outputId": "0d1d24e4-eee9-4647-aac8-7c7d826f3e84"
      },
      "outputs": [
        {
          "data": {
            "text/plain": [
              "array([[1., 1.],\n",
              "       [1., 1.],\n",
              "       [1., 1.]])"
            ]
          },
          "execution_count": 48,
          "metadata": {},
          "output_type": "execute_result"
        }
      ],
      "source": [
        "np.empty((3,2))"
      ]
    },
    {
      "cell_type": "markdown",
      "metadata": {
        "id": "D1ChAxWS6RFi"
      },
      "source": [
        "- 이중괄호는 필수이다.\n",
        "- 왜냐하면, 두번째 매개변수는 옵션으로 dtype을 제공하기 떄문이다.(정수도 포함됨)\n",
        "- 랜덤행렬생성도 비슷하다."
      ]
    },
    {
      "cell_type": "code",
      "execution_count": null,
      "metadata": {
        "colab": {
          "base_uri": "https://localhost:8080/"
        },
        "id": "Gy5irSfN7Khv",
        "outputId": "e83ebbd4-af9e-4f58-ff28-ec481f74c820"
      },
      "outputs": [
        {
          "data": {
            "text/plain": [
              "array([[9, 4],\n",
              "       [5, 0],\n",
              "       [4, 6]])"
            ]
          },
          "execution_count": 49,
          "metadata": {},
          "output_type": "execute_result"
        }
      ],
      "source": [
        "np.random.randint(0,10,(3,2))"
      ]
    },
    {
      "cell_type": "code",
      "execution_count": null,
      "metadata": {
        "colab": {
          "base_uri": "https://localhost:8080/"
        },
        "id": "9-LJVmWV5zcu",
        "outputId": "c824149a-1c28-4eeb-dde3-ceb6895d5c0e"
      },
      "outputs": [
        {
          "data": {
            "text/plain": [
              "array([[0.59147999, 0.23123684],\n",
              "       [0.39611208, 0.00488698],\n",
              "       [0.48446879, 0.17913999]])"
            ]
          },
          "execution_count": 50,
          "metadata": {},
          "output_type": "execute_result"
        }
      ],
      "source": [
        "np.random.rand(3,2)"
      ]
    },
    {
      "cell_type": "code",
      "execution_count": null,
      "metadata": {
        "colab": {
          "base_uri": "https://localhost:8080/"
        },
        "id": "FMj2S5On5wrQ",
        "outputId": "3dfb9da3-e503-4aa5-8077-a28b1ec8ace1"
      },
      "outputs": [
        {
          "data": {
            "text/plain": [
              "array([[5.49777056, 2.97979833],\n",
              "       [3.56361331, 1.30813728],\n",
              "       [2.71385535, 8.90065871]])"
            ]
          },
          "execution_count": 51,
          "metadata": {},
          "output_type": "execute_result"
        }
      ],
      "source": [
        "np.random.uniform(1, 10, (3,2))"
      ]
    },
    {
      "cell_type": "code",
      "execution_count": null,
      "metadata": {
        "colab": {
          "base_uri": "https://localhost:8080/"
        },
        "id": "iGyGof7t58ny",
        "outputId": "f9cb1feb-8e18-408f-a66a-6b2cf713b9f2"
      },
      "outputs": [
        {
          "data": {
            "text/plain": [
              "array([[ 0.37210816,  1.18841566],\n",
              "       [ 0.84601708,  1.36596688],\n",
              "       [-0.96716173, -1.0308939 ]])"
            ]
          },
          "execution_count": 52,
          "metadata": {},
          "output_type": "execute_result"
        }
      ],
      "source": [
        "np.random.randn(3,2)"
      ]
    },
    {
      "cell_type": "code",
      "execution_count": null,
      "metadata": {
        "colab": {
          "base_uri": "https://localhost:8080/"
        },
        "id": "K6IfJRJK6Axq",
        "outputId": "a2871eef-8fc3-4cf1-f910-5e0f757a8e12"
      },
      "outputs": [
        {
          "data": {
            "text/plain": [
              "array([[ 9.66757251, 10.68218519],\n",
              "       [13.09374086,  8.6836337 ],\n",
              "       [10.85083476,  6.7234325 ]])"
            ]
          },
          "execution_count": 53,
          "metadata": {},
          "output_type": "execute_result"
        }
      ],
      "source": [
        "np.random.normal(10,2,(3,2))"
      ]
    },
    {
      "cell_type": "markdown",
      "metadata": {
        "id": "rwkH5kh-7nDX"
      },
      "source": [
        "- 어디에나있는 이중괄호는 새로운 스타일의 그들만의 인터페이스를 찾았다.\n",
        "- np.eye는 shape이 어떻게 생겼는지 이쁘게 보여준다."
      ]
    },
    {
      "cell_type": "code",
      "execution_count": null,
      "metadata": {
        "id": "B0_5eLRW6DU5"
      },
      "outputs": [],
      "source": [
        "rng = np.random.default_rng()"
      ]
    },
    {
      "cell_type": "code",
      "execution_count": null,
      "metadata": {
        "colab": {
          "base_uri": "https://localhost:8080/"
        },
        "id": "ZajgXd4x8iJG",
        "outputId": "4e3a5015-3eb9-4f3b-f3c7-f28090dbf557"
      },
      "outputs": [
        {
          "data": {
            "text/plain": [
              "array([9, 3, 4])"
            ]
          },
          "execution_count": 58,
          "metadata": {},
          "output_type": "execute_result"
        }
      ],
      "source": [
        "rng.integers(0,10,3)"
      ]
    },
    {
      "cell_type": "code",
      "execution_count": null,
      "metadata": {
        "colab": {
          "base_uri": "https://localhost:8080/"
        },
        "id": "8-Mk-Axc8qkZ",
        "outputId": "c9daf552-4ff1-43af-f194-8a39af8eb8b4"
      },
      "outputs": [
        {
          "data": {
            "text/plain": [
              "array([3, 8, 1])"
            ]
          },
          "execution_count": 59,
          "metadata": {},
          "output_type": "execute_result"
        }
      ],
      "source": [
        "rng.integers(0,10,3,endpoint=True)"
      ]
    },
    {
      "cell_type": "code",
      "execution_count": null,
      "metadata": {
        "colab": {
          "base_uri": "https://localhost:8080/"
        },
        "id": "b_HteVkq80KE",
        "outputId": "8c8ec9cd-df94-4a81-e415-dac597961e88"
      },
      "outputs": [
        {
          "data": {
            "text/plain": [
              "array([0.11143301, 0.81463918, 0.7197224 ])"
            ]
          },
          "execution_count": 60,
          "metadata": {},
          "output_type": "execute_result"
        }
      ],
      "source": [
        "rng.random(3)"
      ]
    },
    {
      "cell_type": "code",
      "execution_count": null,
      "metadata": {
        "colab": {
          "base_uri": "https://localhost:8080/"
        },
        "id": "ejnn4bng810X",
        "outputId": "564f71a3-5b25-48ca-e2c1-3a3bd567dc25"
      },
      "outputs": [
        {
          "data": {
            "text/plain": [
              "array([0.2555484 , 0.24075937, 1.45372088])"
            ]
          },
          "execution_count": 61,
          "metadata": {},
          "output_type": "execute_result"
        }
      ],
      "source": [
        "rng.standard_normal(3)"
      ]
    },
    {
      "cell_type": "code",
      "execution_count": null,
      "metadata": {
        "colab": {
          "base_uri": "https://localhost:8080/"
        },
        "id": "3WnyDjjp8-Su",
        "outputId": "6518660b-8103-4df8-cc8c-23ade59a19b1"
      },
      "outputs": [
        {
          "data": {
            "text/plain": [
              "array([7.24731198, 7.5789642 , 5.30372287])"
            ]
          },
          "execution_count": 62,
          "metadata": {},
          "output_type": "execute_result"
        }
      ],
      "source": [
        "rng.uniform(1,10,3)"
      ]
    },
    {
      "cell_type": "code",
      "execution_count": null,
      "metadata": {
        "colab": {
          "base_uri": "https://localhost:8080/"
        },
        "id": "wqj6CP7A9QTL",
        "outputId": "4a07bc54-6ded-49b5-d79c-28a401190b66"
      },
      "outputs": [
        {
          "data": {
            "text/plain": [
              "array([-0.96825395,  0.7968537 ,  0.79205674])"
            ]
          },
          "execution_count": 63,
          "metadata": {},
          "output_type": "execute_result"
        }
      ],
      "source": [
        "rng.standard_normal(3)"
      ]
    },
    {
      "cell_type": "code",
      "execution_count": null,
      "metadata": {
        "colab": {
          "base_uri": "https://localhost:8080/"
        },
        "id": "W52CwgJt9cOJ",
        "outputId": "a9f3aba5-c526-474e-d18b-74a06d8f584e"
      },
      "outputs": [
        {
          "data": {
            "text/plain": [
              "array([7.12973595, 6.75088433, 4.2118105 ])"
            ]
          },
          "execution_count": 64,
          "metadata": {},
          "output_type": "execute_result"
        }
      ],
      "source": [
        "rng.uniform(1,10,3)"
      ]
    },
    {
      "cell_type": "code",
      "execution_count": null,
      "metadata": {
        "colab": {
          "base_uri": "https://localhost:8080/"
        },
        "id": "WXzL0s-E9fLg",
        "outputId": "1bbf80b2-f72d-4f26-d05a-b7c285a3b45e"
      },
      "outputs": [
        {
          "data": {
            "text/plain": [
              "array([5.25825857, 3.90450901, 4.72740104])"
            ]
          },
          "execution_count": 65,
          "metadata": {},
          "output_type": "execute_result"
        }
      ],
      "source": [
        "rng.normal(5,2,3)"
      ]
    },
    {
      "cell_type": "markdown",
      "metadata": {
        "id": "Vp3yos9z9ihZ"
      },
      "source": [
        "- 2차원 행렬의 indexing 중첩배열의 indexing 더 편리하다.\n",
        "- 행렬에서의 indexing은 view이기 때문에 수정하게 되면 원본도 수정된다."
      ]
    },
    {
      "cell_type": "markdown",
      "metadata": {
        "id": "TnHrxmLi96i1"
      },
      "source": [
        "## 축(axis)\n",
        "- 축과 열을 통해 계산하려면 넘파이에게 계산에 대해 알려줘야 한다.\n",
        "- 임의의 수의 차원에서 작동하는 보편적인 표기법을 취하기 위해선 넘파이는 축의 개념을 도입한다.\n",
        "- 열은 axis = 0\n",
        "- 행은 axis = 1"
      ]
    },
    {
      "cell_type": "code",
      "execution_count": null,
      "metadata": {
        "colab": {
          "base_uri": "https://localhost:8080/"
        },
        "id": "iLwYvWAB9hN7",
        "outputId": "f127f55d-f5f9-4f72-dc54-95db41381c7e"
      },
      "outputs": [
        {
          "data": {
            "text/plain": [
              "21"
            ]
          },
          "execution_count": 66,
          "metadata": {},
          "output_type": "execute_result"
        }
      ],
      "source": [
        "a = np.array([[1,2,3],[4,5,6]])\n",
        "np.sum(a)"
      ]
    },
    {
      "cell_type": "code",
      "execution_count": null,
      "metadata": {
        "colab": {
          "base_uri": "https://localhost:8080/"
        },
        "id": "KkX62nKi_vMv",
        "outputId": "8fe23a1b-4291-4eb8-c6e1-a187be7026a8"
      },
      "outputs": [
        {
          "data": {
            "text/plain": [
              "array([5, 7, 9])"
            ]
          },
          "execution_count": 67,
          "metadata": {},
          "output_type": "execute_result"
        }
      ],
      "source": [
        "a.sum(axis=0)"
      ]
    },
    {
      "cell_type": "code",
      "execution_count": null,
      "metadata": {
        "colab": {
          "base_uri": "https://localhost:8080/"
        },
        "id": "9xK20GZb_y7u",
        "outputId": "896850af-cd95-47b0-a817-55d588e650c1"
      },
      "outputs": [
        {
          "data": {
            "text/plain": [
              "array([ 6, 15])"
            ]
          },
          "execution_count": 68,
          "metadata": {},
          "output_type": "execute_result"
        }
      ],
      "source": [
        "a.sum(axis=1)"
      ]
    },
    {
      "cell_type": "markdown",
      "metadata": {
        "id": "NKh6wnoR_4qD"
      },
      "source": [
        "- axis = 0 은 행 인덱싱을 담당하므로 열 단위가 아니라 모든 행에 대한 주어진 열 합계로 읽어야 한다.\n",
        "- 작동하지 않는 특별한 경우, Einstein 합계를 사용할 수 있다."
      ]
    },
    {
      "cell_type": "markdown",
      "metadata": {
        "id": "Ys-sk7w6AcSH"
      },
      "source": [
        "## 행렬 산수\n",
        "- 일반 산수외에도 행렬 곱을 계산하는 @연산자가 있습니다."
      ]
    },
    {
      "cell_type": "code",
      "execution_count": null,
      "metadata": {
        "colab": {
          "base_uri": "https://localhost:8080/"
        },
        "id": "SwmmxVxq_0fF",
        "outputId": "68b3e17c-abdd-450c-c1e7-a9611d776028"
      },
      "outputs": [
        {
          "data": {
            "text/plain": [
              "array([[2, 2],\n",
              "       [3, 5]])"
            ]
          },
          "execution_count": 69,
          "metadata": {},
          "output_type": "execute_result"
        }
      ],
      "source": [
        "a = np.array([[1,2],[3,4]])\n",
        "b = np.array([[1,0],[0,1]])\n",
        "a+b"
      ]
    },
    {
      "cell_type": "code",
      "execution_count": null,
      "metadata": {
        "colab": {
          "base_uri": "https://localhost:8080/"
        },
        "id": "3myiRxPsA3LG",
        "outputId": "30925741-2b0a-4ed4-db47-05caddb326e1"
      },
      "outputs": [
        {
          "data": {
            "text/plain": [
              "array([[0, 2],\n",
              "       [3, 3]])"
            ]
          },
          "execution_count": 70,
          "metadata": {},
          "output_type": "execute_result"
        }
      ],
      "source": [
        "a-b"
      ]
    },
    {
      "cell_type": "code",
      "execution_count": null,
      "metadata": {
        "colab": {
          "base_uri": "https://localhost:8080/"
        },
        "id": "sJPT2-b3A3tt",
        "outputId": "d0335346-7d86-4441-fb65-3f8673d2c857"
      },
      "outputs": [
        {
          "data": {
            "text/plain": [
              "array([[1, 0],\n",
              "       [0, 4]])"
            ]
          },
          "execution_count": 71,
          "metadata": {},
          "output_type": "execute_result"
        }
      ],
      "source": [
        "a*b"
      ]
    },
    {
      "cell_type": "code",
      "execution_count": null,
      "metadata": {
        "colab": {
          "base_uri": "https://localhost:8080/"
        },
        "id": "NIYimAwwA42R",
        "outputId": "8d91aaea-07e9-4eb5-accb-55c27cf5023d"
      },
      "outputs": [
        {
          "data": {
            "text/plain": [
              "array([[1, 2],\n",
              "       [3, 4]])"
            ]
          },
          "execution_count": 72,
          "metadata": {},
          "output_type": "execute_result"
        }
      ],
      "source": [
        "a@b"
      ]
    },
    {
      "cell_type": "code",
      "execution_count": null,
      "metadata": {
        "colab": {
          "base_uri": "https://localhost:8080/"
        },
        "id": "IZ2Y8aixA53J",
        "outputId": "9483fb0b-09fc-4425-eb4a-87cf74a007b7"
      },
      "outputs": [
        {
          "data": {
            "text/plain": [
              "array([[1. , 1. ],\n",
              "       [1.5, 4. ]])"
            ]
          },
          "execution_count": 76,
          "metadata": {},
          "output_type": "execute_result"
        }
      ],
      "source": [
        "a = np.array([[1.,2.],[3.,4.]])\n",
        "b = np.array([[1.,2.],[2.,1.]])\n",
        "a/b"
      ]
    },
    {
      "cell_type": "code",
      "execution_count": null,
      "metadata": {
        "colab": {
          "base_uri": "https://localhost:8080/"
        },
        "id": "qUCU34eVA8rY",
        "outputId": "f10bbbfc-d225-4a3c-930a-59efc001cb03"
      },
      "outputs": [
        {
          "data": {
            "text/plain": [
              "array([[1., 1.],\n",
              "       [1., 4.]])"
            ]
          },
          "execution_count": 75,
          "metadata": {},
          "output_type": "execute_result"
        }
      ],
      "source": [
        "a**b"
      ]
    },
    {
      "cell_type": "markdown",
      "metadata": {
        "id": "rY3AcE3_BNiH"
      },
      "source": [
        "- broadcasting으로 넘파이는 벡터와 행렬 사이, 두 벡터 사이에서도 혼합 연산을 허용한다."
      ]
    },
    {
      "cell_type": "code",
      "execution_count": null,
      "metadata": {
        "colab": {
          "base_uri": "https://localhost:8080/"
        },
        "id": "UuQQzpJbBHOJ",
        "outputId": "3a5d340e-b7bc-4df7-c01c-c302568e255c"
      },
      "outputs": [
        {
          "data": {
            "text/plain": [
              "array([[0.11111111, 0.22222222, 0.33333333],\n",
              "       [0.44444444, 0.55555556, 0.66666667],\n",
              "       [0.77777778, 0.88888889, 1.        ]])"
            ]
          },
          "execution_count": 81,
          "metadata": {},
          "output_type": "execute_result"
        }
      ],
      "source": [
        "a = np.arange(1,10).reshape(3,3)\n",
        "a/9"
      ]
    },
    {
      "cell_type": "code",
      "execution_count": null,
      "metadata": {
        "colab": {
          "base_uri": "https://localhost:8080/"
        },
        "id": "zT3GV7fKBeN2",
        "outputId": "2383cf45-9492-4265-a076-4175e8af38d0"
      },
      "outputs": [
        {
          "data": {
            "text/plain": [
              "array([[-1,  0,  3],\n",
              "       [-4,  0,  6],\n",
              "       [-7,  0,  9]])"
            ]
          },
          "execution_count": 82,
          "metadata": {},
          "output_type": "execute_result"
        }
      ],
      "source": [
        "a*np.array([-1,0,1])"
      ]
    },
    {
      "cell_type": "code",
      "execution_count": null,
      "metadata": {
        "colab": {
          "base_uri": "https://localhost:8080/"
        },
        "id": "kz4YcDyJBmdT",
        "outputId": "d81a1784-a8d8-4dcf-b1c7-a706f6bca0f9"
      },
      "outputs": [
        {
          "data": {
            "text/plain": [
              "array([[[0.33333333, 0.66666667, 1.        ],\n",
              "        [0.66666667, 0.83333333, 1.        ],\n",
              "        [0.77777778, 0.88888889, 1.        ]]])"
            ]
          },
          "execution_count": 83,
          "metadata": {},
          "output_type": "execute_result"
        }
      ],
      "source": [
        "a/np.array([[[3],[6],[9]]])"
      ]
    },
    {
      "cell_type": "code",
      "execution_count": null,
      "metadata": {
        "colab": {
          "base_uri": "https://localhost:8080/"
        },
        "id": "dwqUP_tkB8I8",
        "outputId": "b70b6a5f-766e-44c8-ac44-eaa2ccf1d160"
      },
      "outputs": [
        {
          "data": {
            "text/plain": [
              "array([[[ 9, 18, 27],\n",
              "        [18, 36, 54],\n",
              "        [27, 54, 81]]])"
            ]
          },
          "execution_count": 91,
          "metadata": {},
          "output_type": "execute_result"
        }
      ],
      "source": [
        "np.array([3,6,9])*np.array([[[3],[6],[9]]])"
      ]
    },
    {
      "cell_type": "markdown",
      "metadata": {
        "id": "cq8NBg0-CkrM"
      },
      "source": [
        "- 대칭적인 요소별 곱셈\n",
        "- 비대칭 선형 대수 행렬 곱셈을 사용하여 외적을 계산하려면 피연산자의 순서를 반대로 해야한다."
      ]
    },
    {
      "cell_type": "code",
      "execution_count": null,
      "metadata": {
        "colab": {
          "base_uri": "https://localhost:8080/"
        },
        "id": "7YMeJyXoCFwy",
        "outputId": "42eee9b8-2a8a-456f-ac33-3805831d8d08"
      },
      "outputs": [
        {
          "data": {
            "text/plain": [
              "array([[1, 2, 3],\n",
              "       [2, 4, 6],\n",
              "       [3, 6, 9]])"
            ]
          },
          "execution_count": 98,
          "metadata": {},
          "output_type": "execute_result"
        }
      ],
      "source": [
        "a = np.array([[1,2,3]])\n",
        "a.reshape(3,1)@a"
      ]
    },
    {
      "cell_type": "code",
      "execution_count": null,
      "metadata": {
        "colab": {
          "base_uri": "https://localhost:8080/"
        },
        "id": "LDpC4KVSCRlU",
        "outputId": "a898691e-36f7-4989-8802-7f5856172761"
      },
      "outputs": [
        {
          "data": {
            "text/plain": [
              "array([[14]])"
            ]
          },
          "execution_count": 99,
          "metadata": {},
          "output_type": "execute_result"
        }
      ],
      "source": [
        "a@a.reshape(3,1)"
      ]
    },
    {
      "cell_type": "markdown",
      "metadata": {
        "id": "GaLbtgDqDQPD"
      },
      "source": [
        "## 행 벡터와 열 벡터\n",
        "- 위에서 보듯이 행과 열벡터는 서로 다르게 처리된다.\n",
        "- 1차원 행렬은 2차원 연산에서 행 벡터로 취급되므로 행렬에 행 벡터를 곱할 때 (1,n) or (,n)모양으로 쓸 수 있다.\n",
        "- 열 벡터가 필요한 경우 1차원 배열로 부터 만드는 방법은 여러가지 있지만 놀랍게도 transpose는 그중에 포함되지 않는다."
      ]
    },
    {
      "cell_type": "code",
      "execution_count": null,
      "metadata": {
        "colab": {
          "base_uri": "https://localhost:8080/"
        },
        "id": "8sCpCzc4DO2x",
        "outputId": "ab271eef-5bd0-4f26-e363-4298e7158743"
      },
      "outputs": [
        {
          "data": {
            "text/plain": [
              "array([[1],\n",
              "       [2],\n",
              "       [3]])"
            ]
          },
          "execution_count": 101,
          "metadata": {},
          "output_type": "execute_result"
        }
      ],
      "source": [
        "np.array([[1,2,3]]).reshape(3,1)"
      ]
    },
    {
      "cell_type": "markdown",
      "metadata": {
        "id": "6p3bPW1BEm3Y"
      },
      "source": [
        "- 1차원 배열에서 2차원 열 벡터를 만들 수 있는 두가지 작업은 newaxis 를 사용하여 모양을 변경하고 인덱싱 하는 것이다."
      ]
    },
    {
      "cell_type": "code",
      "execution_count": null,
      "metadata": {
        "colab": {
          "base_uri": "https://localhost:8080/"
        },
        "id": "-i_Ys9qJEego",
        "outputId": "3ce0c9ea-0f32-4450-bdcb-d5ba9f7f414f"
      },
      "outputs": [
        {
          "data": {
            "text/plain": [
              "array([[1, 2, 3, 4, 5, 6]])"
            ]
          },
          "execution_count": 104,
          "metadata": {},
          "output_type": "execute_result"
        }
      ],
      "source": [
        "a = np.array([1,2,3,4,5,6])\n",
        "a.reshape(1,-1)"
      ]
    },
    {
      "cell_type": "code",
      "execution_count": null,
      "metadata": {
        "colab": {
          "base_uri": "https://localhost:8080/"
        },
        "id": "wOzWN8d6E1CH",
        "outputId": "6865fd80-f8aa-409a-e2b7-bff838b188fb"
      },
      "outputs": [
        {
          "data": {
            "text/plain": [
              "array([[1, 2, 3, 4, 5, 6]])"
            ]
          },
          "execution_count": 105,
          "metadata": {},
          "output_type": "execute_result"
        }
      ],
      "source": [
        "a[None, :]"
      ]
    },
    {
      "cell_type": "code",
      "execution_count": null,
      "metadata": {
        "colab": {
          "base_uri": "https://localhost:8080/"
        },
        "id": "QlsQKwraE_Dm",
        "outputId": "1f34c36e-5118-4430-c5b4-eaba89fbea49"
      },
      "outputs": [
        {
          "data": {
            "text/plain": [
              "array([[1],\n",
              "       [2],\n",
              "       [3],\n",
              "       [4],\n",
              "       [5],\n",
              "       [6]])"
            ]
          },
          "execution_count": 106,
          "metadata": {},
          "output_type": "execute_result"
        }
      ],
      "source": [
        "a.reshape(-1,1)"
      ]
    },
    {
      "cell_type": "code",
      "execution_count": null,
      "metadata": {
        "colab": {
          "base_uri": "https://localhost:8080/"
        },
        "id": "edPV4seqFLx9",
        "outputId": "2ec89c55-ac7e-48ac-a8d8-8b8526b7073e"
      },
      "outputs": [
        {
          "data": {
            "text/plain": [
              "array([[1],\n",
              "       [2],\n",
              "       [3],\n",
              "       [4],\n",
              "       [5],\n",
              "       [6]])"
            ]
          },
          "execution_count": 107,
          "metadata": {},
          "output_type": "execute_result"
        }
      ],
      "source": [
        "a[:,None]"
      ]
    },
    {
      "cell_type": "code",
      "execution_count": null,
      "metadata": {
        "colab": {
          "base_uri": "https://localhost:8080/"
        },
        "id": "lHrtgbS6FOO6",
        "outputId": "98e57f43-b4b2-4c7b-b4bd-430573b29628"
      },
      "outputs": [
        {
          "data": {
            "text/plain": [
              "array([[1, 2, 3],\n",
              "       [4, 5, 6]])"
            ]
          },
          "execution_count": 108,
          "metadata": {},
          "output_type": "execute_result"
        }
      ],
      "source": [
        "a.reshape(2,3)"
      ]
    },
    {
      "cell_type": "code",
      "execution_count": null,
      "metadata": {
        "colab": {
          "base_uri": "https://localhost:8080/"
        },
        "id": "yTne_4YDFQQJ",
        "outputId": "279d7044-19d9-4753-dab9-795e48b83bd2"
      },
      "outputs": [
        {
          "data": {
            "text/plain": [
              "array([[1, 2, 3],\n",
              "       [4, 5, 6]])"
            ]
          },
          "execution_count": 109,
          "metadata": {},
          "output_type": "execute_result"
        }
      ],
      "source": [
        "a.reshape(2,-1)"
      ]
    },
    {
      "cell_type": "markdown",
      "metadata": {
        "id": "-yRuSLjYFwlS"
      },
      "source": [
        "- -1요소는 reshape에게 차원크기를 자동으로 계산하도록 말한다.\n",
        "- 대괄호 안에 None은 빈공간을 디자인해주고 빈 축을 만들어주는 단축키를 np.newaxis 에 제공한다.\n",
        "- 넘파이에게는 3가지 유형의 벡터가 있다 : 1차원 배열, 2차원 행벡터, 2차원 열벡터\n",
        "- broadcasting 규칙에 따라 1차원 배열은 2차원 행벡터로 해석되므로 일반적으로 둘 사이를 변환할 필요는 없다.\n"
      ]
    },
    {
      "cell_type": "markdown",
      "metadata": {
        "id": "PhP_PGx_RwCY"
      },
      "source": [
        "## 행렬 조작\n",
        "- 배열을 결합하는데는 2가지 주요 방법이 있다."
      ]
    },
    {
      "cell_type": "code",
      "execution_count": null,
      "metadata": {
        "colab": {
          "base_uri": "https://localhost:8080/"
        },
        "id": "G2fCmryPFSG_",
        "outputId": "30ff3dd6-cfec-4626-b218-caf3cd5a58d4"
      },
      "outputs": [
        {
          "data": {
            "text/plain": [
              "array([[ 1,  2,  3,  4,  1,  2],\n",
              "       [ 5,  6,  7,  8,  3,  4],\n",
              "       [ 9, 10, 11, 12,  5,  6]])"
            ]
          },
          "execution_count": 4,
          "metadata": {},
          "output_type": "execute_result"
        }
      ],
      "source": [
        "a = np.arange(1,13).reshape(3,4)\n",
        "b = np.arange(1,9).reshape(2,4)\n",
        "c = np.arange(1,7).reshape(3,2)\n",
        "np.hstack((a,c))"
      ]
    },
    {
      "cell_type": "code",
      "execution_count": null,
      "metadata": {
        "colab": {
          "base_uri": "https://localhost:8080/"
        },
        "id": "kkbCQu9-SGbf",
        "outputId": "735cbe6d-4d73-446e-c6da-cff9d301d1dd"
      },
      "outputs": [
        {
          "data": {
            "text/plain": [
              "array([[ 1,  2,  3,  4],\n",
              "       [ 5,  6,  7,  8],\n",
              "       [ 9, 10, 11, 12],\n",
              "       [ 1,  2,  3,  4],\n",
              "       [ 5,  6,  7,  8]])"
            ]
          },
          "execution_count": 5,
          "metadata": {},
          "output_type": "execute_result"
        }
      ],
      "source": [
        "np.vstack((a,b))"
      ]
    },
    {
      "cell_type": "markdown",
      "metadata": {
        "id": "BpxTCfcnSbTe"
      },
      "source": [
        "- 이 두가지 일은 행렬이나 벡터를 쌓을 때는 잘 작동하지만 1차원 배열과 행렬을 쌓을 때는 vstack이 오직 예상한 데로 작동한다 : hstack는 차원 불일치 오류를 만들어낸다. 왜냐하면 1차원은 열벡터가 아니라 행벡터로 변환하기 때문이다.\n",
        "해결방법은 행 벡터로 변환하거나, 특별한 column_stack함수를 사용하는 것이다."
      ]
    },
    {
      "cell_type": "code",
      "execution_count": null,
      "metadata": {
        "id": "cGZZtJUpSS8l"
      },
      "outputs": [],
      "source": [
        "a = np.arange(1,13).reshape(3,4)\n",
        "b = np.arange(1,9).reshape(2,4)\n",
        "c = np.arange(1,7).reshape(3,2)\n",
        "p = np.column_stack((a,c))"
      ]
    },
    {
      "cell_type": "code",
      "execution_count": null,
      "metadata": {
        "colab": {
          "base_uri": "https://localhost:8080/"
        },
        "id": "cPIw1N-_TX1s",
        "outputId": "19488087-7d72-46c7-a778-0fe65e8939fc"
      },
      "outputs": [
        {
          "data": {
            "text/plain": [
              "[array([[ 1,  2,  3,  4],\n",
              "        [ 5,  6,  7,  8],\n",
              "        [ 9, 10, 11, 12]]), array([[1, 2],\n",
              "        [3, 4],\n",
              "        [5, 6]])]"
            ]
          },
          "execution_count": 10,
          "metadata": {},
          "output_type": "execute_result"
        }
      ],
      "source": [
        "# 쌓기의 반대는 분할하는 것이다.\n",
        "np.hsplit(p,[4])"
      ]
    },
    {
      "cell_type": "markdown",
      "metadata": {
        "id": "VYrsoxiITwqR"
      },
      "source": [
        "- 행렬복제는 tile이 복사 붙여넣기 한것처럼 행동하게 하고 repeat 출력한 것들을 모은다."
      ]
    },
    {
      "cell_type": "code",
      "execution_count": null,
      "metadata": {
        "colab": {
          "base_uri": "https://localhost:8080/"
        },
        "id": "cFo7hpmhTqJ6",
        "outputId": "fcc7ba88-1716-48fa-c177-578c7570934c"
      },
      "outputs": [
        {
          "data": {
            "text/plain": [
              "array([[1, 2, 1, 2, 1, 2],\n",
              "       [3, 4, 3, 4, 3, 4],\n",
              "       [1, 2, 1, 2, 1, 2],\n",
              "       [3, 4, 3, 4, 3, 4]])"
            ]
          },
          "execution_count": 11,
          "metadata": {},
          "output_type": "execute_result"
        }
      ],
      "source": [
        "a = np.array([[1,2],[3,4]])\n",
        "np.tile(a,(2,3))"
      ]
    },
    {
      "cell_type": "code",
      "execution_count": null,
      "metadata": {
        "colab": {
          "base_uri": "https://localhost:8080/"
        },
        "id": "uAzxazpqUT95",
        "outputId": "873ed670-2163-49c6-c3b4-cf93ac46d593"
      },
      "outputs": [
        {
          "data": {
            "text/plain": [
              "array([[1, 1, 1, 2, 2, 2],\n",
              "       [1, 1, 1, 2, 2, 2],\n",
              "       [3, 3, 3, 4, 4, 4],\n",
              "       [3, 3, 3, 4, 4, 4]])"
            ]
          },
          "execution_count": 12,
          "metadata": {},
          "output_type": "execute_result"
        }
      ],
      "source": [
        "b = a.repeat(3,axis=1)\n",
        "b.repeat(2,axis=0)"
      ]
    },
    {
      "cell_type": "markdown",
      "metadata": {
        "id": "RlkREfU7UdAV"
      },
      "source": [
        "- 특정한 열과 행의 삭제는 delete로 한다."
      ]
    },
    {
      "cell_type": "code",
      "execution_count": null,
      "metadata": {
        "colab": {
          "base_uri": "https://localhost:8080/"
        },
        "id": "ywyC-lx0Uac-",
        "outputId": "be2ab1b1-2b9f-456e-f908-bee186739c94"
      },
      "outputs": [
        {
          "data": {
            "text/plain": [
              "array([[ 1,  3,  5],\n",
              "       [ 6,  8, 10],\n",
              "       [11, 13, 15]])"
            ]
          },
          "execution_count": 13,
          "metadata": {},
          "output_type": "execute_result"
        }
      ],
      "source": [
        "a = np.arange(1,16).reshape(3,5)\n",
        "np.delete(a,[1,3],axis=1)"
      ]
    },
    {
      "cell_type": "code",
      "execution_count": null,
      "metadata": {
        "colab": {
          "base_uri": "https://localhost:8080/"
        },
        "id": "Rz6Pd6ezUqZL",
        "outputId": "5f55c3bf-4aeb-4159-891c-6b32cc503751"
      },
      "outputs": [
        {
          "data": {
            "text/plain": [
              "array([[ 1,  2,  3,  4,  5],\n",
              "       [11, 12, 13, 14, 15]])"
            ]
          },
          "execution_count": 14,
          "metadata": {},
          "output_type": "execute_result"
        }
      ],
      "source": [
        "np.delete(a,1,axis=0)"
      ]
    },
    {
      "cell_type": "code",
      "execution_count": null,
      "metadata": {
        "colab": {
          "base_uri": "https://localhost:8080/"
        },
        "id": "nBb6gfKbUvBm",
        "outputId": "18cb57fe-57b9-4e6b-f634-a617fdeeffa8"
      },
      "outputs": [
        {
          "data": {
            "text/plain": [
              "array([[ 1,  5],\n",
              "       [ 6, 10],\n",
              "       [11, 15]])"
            ]
          },
          "execution_count": 15,
          "metadata": {},
          "output_type": "execute_result"
        }
      ],
      "source": [
        "np.delete(a,np.s_[1:-1], axis=1)"
      ]
    },
    {
      "cell_type": "code",
      "execution_count": null,
      "metadata": {
        "colab": {
          "base_uri": "https://localhost:8080/"
        },
        "id": "f7ey6_zZU0KY",
        "outputId": "72c682bf-f2ad-4651-9fdf-14c8e27bfeb6"
      },
      "outputs": [
        {
          "data": {
            "text/plain": [
              "array([[ 1,  5],\n",
              "       [ 6, 10],\n",
              "       [11, 15]])"
            ]
          },
          "execution_count": 16,
          "metadata": {},
          "output_type": "execute_result"
        }
      ],
      "source": [
        "np.delete(a, slice(1,-1), axis=1)"
      ]
    },
    {
      "cell_type": "code",
      "execution_count": null,
      "metadata": {
        "colab": {
          "base_uri": "https://localhost:8080/"
        },
        "id": "uW1owWNPU4O3",
        "outputId": "c8db320b-2a3d-489c-93fc-c87d0ea9abfa"
      },
      "outputs": [
        {
          "data": {
            "text/plain": [
              "array([[ 1,  0,  2,  0,  3,  4,  5],\n",
              "       [ 6,  0,  7,  0,  8,  9, 10],\n",
              "       [11,  0, 12,  0, 13, 14, 15]])"
            ]
          },
          "execution_count": 17,
          "metadata": {},
          "output_type": "execute_result"
        }
      ],
      "source": [
        "# 삽입 연산\n",
        "a = np.arange(1,16).reshape(3,5)\n",
        "np.insert(a, [1,2],0, axis=1)"
      ]
    },
    {
      "cell_type": "code",
      "execution_count": null,
      "metadata": {
        "colab": {
          "base_uri": "https://localhost:8080/"
        },
        "id": "-3_V2Gj5VE8p",
        "outputId": "2f532360-ff19-4692-af27-71f5d21c4214"
      },
      "outputs": [
        {
          "data": {
            "text/plain": [
              "array([[ 1,  2,  3,  4,  5],\n",
              "       [ 7,  7,  7,  7,  7],\n",
              "       [ 6,  7,  8,  9, 10],\n",
              "       [11, 12, 13, 14, 15]])"
            ]
          },
          "execution_count": 18,
          "metadata": {},
          "output_type": "execute_result"
        }
      ],
      "source": [
        "np.insert(a,1,7,axis=0)"
      ]
    },
    {
      "cell_type": "code",
      "execution_count": null,
      "metadata": {
        "colab": {
          "base_uri": "https://localhost:8080/"
        },
        "id": "7T5g_xojVIkC",
        "outputId": "61d982ef-7236-46a9-d598-5e050a32d52f"
      },
      "outputs": [
        {
          "data": {
            "text/plain": [
              "array([[ 1,  1,  2,  3,  2,  3,  4,  5],\n",
              "       [ 6,  4,  5,  6,  7,  8,  9, 10],\n",
              "       [11,  7,  8,  9, 12, 13, 14, 15]])"
            ]
          },
          "execution_count": 20,
          "metadata": {},
          "output_type": "execute_result"
        }
      ],
      "source": [
        "b = np.arange(1,10).reshape(3,3)\n",
        "np.insert(a,[1],b,axis=1)"
      ]
    },
    {
      "cell_type": "markdown",
      "metadata": {
        "id": "sgTzRkjVVfTp"
      },
      "source": [
        "- append 함수는 hstack함수와 마찬가지로 자동으로 1차원 배열을 변환하지 않는다\n",
        "- 그 벡터를 사용하기 위해서 모양을 바꾸거나, 차원을 추가하거나 column_stack을 사용해야한다."
      ]
    },
    {
      "cell_type": "code",
      "execution_count": null,
      "metadata": {
        "colab": {
          "base_uri": "https://localhost:8080/"
        },
        "id": "yn8CWvueVM6O",
        "outputId": "004e8c03-8f1c-4644-f2e9-53fa50e64618"
      },
      "outputs": [
        {
          "data": {
            "text/plain": [
              "array([[ 1,  2,  3,  4,  5,  1,  2],\n",
              "       [ 6,  7,  8,  9, 10,  3,  4],\n",
              "       [11, 12, 13, 14, 15,  5,  6]])"
            ]
          },
          "execution_count": 27,
          "metadata": {},
          "output_type": "execute_result"
        }
      ],
      "source": [
        "a = np.arange(1,16).reshape(3,5)\n",
        "np.append(a, np.arange(1,7).reshape(3,2),axis=1)"
      ]
    },
    {
      "cell_type": "code",
      "execution_count": null,
      "metadata": {
        "colab": {
          "base_uri": "https://localhost:8080/"
        },
        "id": "niJnKr88WQnV",
        "outputId": "412a2735-8ba9-4de4-c0d6-5df629e790a9"
      },
      "outputs": [
        {
          "name": "stdout",
          "output_type": "stream",
          "text": [
            "[[ 1  2  3  4  5]\n",
            " [ 6  7  8  9 10]\n",
            " [11 12 13 14 15]]\n"
          ]
        },
        {
          "data": {
            "text/plain": [
              "array([[ 1,  6, 11],\n",
              "       [ 2,  7, 12],\n",
              "       [ 3,  8, 13],\n",
              "       [ 4,  9, 14],\n",
              "       [ 5, 10, 15]])"
            ]
          },
          "execution_count": 35,
          "metadata": {},
          "output_type": "execute_result"
        }
      ],
      "source": [
        "a = np.arange(1,16).reshape(3,5)\n",
        "print(a)\n",
        "np.column_stack(a)"
      ]
    },
    {
      "cell_type": "code",
      "execution_count": null,
      "metadata": {
        "colab": {
          "base_uri": "https://localhost:8080/"
        },
        "id": "gGu-eB0TW3g9",
        "outputId": "d3a4694e-ea7f-425d-9b41-d5e305e1a131"
      },
      "outputs": [
        {
          "data": {
            "text/plain": [
              "array([[ 1,  2,  3,  4,  5],\n",
              "       [ 6,  7,  8,  9, 10],\n",
              "       [11, 12, 13, 14, 15],\n",
              "       [ 1,  1,  1,  1,  1]])"
            ]
          },
          "execution_count": 41,
          "metadata": {},
          "output_type": "execute_result"
        }
      ],
      "source": [
        "np.append(a,[[1,1,1,1,1]], axis=0)"
      ]
    },
    {
      "cell_type": "markdown",
      "metadata": {
        "id": "dxgeIofVXsmX"
      },
      "source": [
        "- 상수를 배열의 border(s)에 추가하기만 하면 pad함수로 충분하다."
      ]
    },
    {
      "cell_type": "code",
      "execution_count": null,
      "metadata": {
        "colab": {
          "base_uri": "https://localhost:8080/"
        },
        "id": "Wwm5CnakXds8",
        "outputId": "9f482e87-ad77-40a2-cef0-ee8af4a7792e"
      },
      "outputs": [
        {
          "data": {
            "text/plain": [
              "array([[ 1,  2,  3,  4,  5,  0,  0],\n",
              "       [ 6,  7,  8,  9, 10,  0,  0],\n",
              "       [11, 12, 13, 14, 15,  0,  0]])"
            ]
          },
          "execution_count": 42,
          "metadata": {},
          "output_type": "execute_result"
        }
      ],
      "source": [
        "a = np.arange(1,16).reshape(3,5)\n",
        "np.pad(a,((0,0),(0,2)))"
      ]
    },
    {
      "cell_type": "code",
      "execution_count": null,
      "metadata": {
        "colab": {
          "base_uri": "https://localhost:8080/"
        },
        "id": "pIxqUsV_YA2v",
        "outputId": "08769d10-aaad-40cc-8492-594c9b042979"
      },
      "outputs": [
        {
          "data": {
            "text/plain": [
              "array([[ 1,  2,  3,  4,  5],\n",
              "       [ 6,  7,  8,  9, 10],\n",
              "       [11, 12, 13, 14, 15],\n",
              "       [ 1,  1,  1,  1,  1]])"
            ]
          },
          "execution_count": 43,
          "metadata": {},
          "output_type": "execute_result"
        }
      ],
      "source": [
        "np.pad(a,((0,1),(0,0)), constant_values=1)"
      ]
    },
    {
      "cell_type": "code",
      "execution_count": null,
      "metadata": {
        "colab": {
          "base_uri": "https://localhost:8080/"
        },
        "id": "u6339QvKYG18",
        "outputId": "162e79ae-1a39-4f0f-d8b7-f38e18d59d85"
      },
      "outputs": [
        {
          "data": {
            "text/plain": [
              "array([[ 0,  0,  0,  0,  0,  0,  0],\n",
              "       [ 0,  1,  2,  3,  4,  5,  0],\n",
              "       [ 0,  6,  7,  8,  9, 10,  0],\n",
              "       [ 0, 11, 12, 13, 14, 15,  0],\n",
              "       [ 0,  0,  0,  0,  0,  0,  0]])"
            ]
          },
          "execution_count": 44,
          "metadata": {},
          "output_type": "execute_result"
        }
      ],
      "source": [
        "np.pad(a,1)"
      ]
    },
    {
      "cell_type": "markdown",
      "metadata": {
        "id": "h6o5qLGEYJ_H"
      },
      "source": [
        "## 메쉬그리드 meshgrids\n",
        "- 브로드캐스팅 규칙을 사용하면 meshgrid작업을 더 쉽게 수행가능하다."
      ]
    },
    {
      "cell_type": "code",
      "execution_count": null,
      "metadata": {
        "id": "3IpDuqSrYIfE"
      },
      "outputs": [],
      "source": [
        "a = np.empty((2,3))\n",
        "for i in range(2):\n",
        "  for j in range(3):\n",
        "    a[i, j] = j-i"
      ]
    },
    {
      "cell_type": "code",
      "execution_count": null,
      "metadata": {
        "id": "sI8m4-bJpJYI"
      },
      "outputs": [],
      "source": [
        "c = [[(j-i) for j in range(3)]for i in range(2)]\n",
        "a = np.array(c)"
      ]
    },
    {
      "cell_type": "markdown",
      "metadata": {
        "id": "4ExZ9qOdpgdU"
      },
      "source": [
        "- 두가지 방식은 파이썬 루프문을 사용하므로 느리다."
      ]
    },
    {
      "cell_type": "code",
      "execution_count": null,
      "metadata": {
        "id": "o8Nk2JofpdyP"
      },
      "outputs": [],
      "source": [
        "i,j = np.arange(2), np.arange(3)"
      ]
    },
    {
      "cell_type": "code",
      "execution_count": null,
      "metadata": {
        "id": "qr0zdqFfpshK"
      },
      "outputs": [],
      "source": [
        "I,J = np.meshgrid(i,j, indexing='ij')"
      ]
    },
    {
      "cell_type": "code",
      "execution_count": null,
      "metadata": {
        "id": "Ab63NPBxp2cV"
      },
      "outputs": [],
      "source": [
        "I,J = np.mgrid[:3,:3]"
      ]
    },
    {
      "cell_type": "code",
      "execution_count": null,
      "metadata": {
        "id": "7MwVc6f4p6wK"
      },
      "outputs": [],
      "source": [
        "I,J = np.indices((2,3))"
      ]
    },
    {
      "cell_type": "code",
      "execution_count": null,
      "metadata": {
        "colab": {
          "base_uri": "https://localhost:8080/"
        },
        "id": "a3pvtZ9gqAir",
        "outputId": "110594ec-2a50-4319-d21c-76e47539113c"
      },
      "outputs": [
        {
          "data": {
            "text/plain": [
              "array([[ 0.,  1.,  2.],\n",
              "       [-1.,  0.,  1.]])"
            ]
          },
          "execution_count": 18,
          "metadata": {},
          "output_type": "execute_result"
        }
      ],
      "source": [
        "A = np.fromfunction(lambda i,j : j-i,(2,3))\n",
        "A"
      ]
    },
    {
      "cell_type": "markdown",
      "metadata": {
        "id": "FKvnABxYqQ-7"
      },
      "source": [
        "-  매쉬그리드 함수는 임의의 인덱스를 허용하며, mgrid는 슬라이스와 indices만 허용하며 전체 인덱스 범위만 생성할 수 있다.\n",
        "- fromfunction는 i,j인수를 사용하여 제공된 함수를 한번만 호출한다.\n",
        "\n",
        "- 하지만 넘파이가 더 나은 방법을 제공해준다.\n",
        "- 적절한 모양의 벡터를 저장하는 것 만으로도 broadcasting이 처리를 해준다"
      ]
    },
    {
      "cell_type": "code",
      "execution_count": null,
      "metadata": {
        "id": "oSrDxH4MqI-d"
      },
      "outputs": [],
      "source": [
        "i,j = np.arange(2), np.arange(3)"
      ]
    },
    {
      "cell_type": "code",
      "execution_count": null,
      "metadata": {
        "id": "70IDUFAWr0ym"
      },
      "outputs": [],
      "source": [
        "I,J = np.meshgrid(i,j, sparse=True, indexing='ij')"
      ]
    },
    {
      "cell_type": "code",
      "execution_count": null,
      "metadata": {
        "id": "oQPg_s-ir7fV"
      },
      "outputs": [],
      "source": [
        "I,J = np.ogrid[:2,:3]"
      ]
    },
    {
      "cell_type": "code",
      "execution_count": null,
      "metadata": {
        "id": "-GSPcvOksAH2"
      },
      "outputs": [],
      "source": [
        "I,J = np.indices((2,3), sparse=True)"
      ]
    },
    {
      "cell_type": "code",
      "execution_count": null,
      "metadata": {
        "colab": {
          "base_uri": "https://localhost:8080/"
        },
        "id": "ahzJ1X41sElN",
        "outputId": "2e392cbd-8848-45bc-e6e9-52bb57160f82"
      },
      "outputs": [
        {
          "data": {
            "text/plain": [
              "array([[ 0,  1,  2],\n",
              "       [-1,  0,  1]])"
            ]
          },
          "execution_count": 25,
          "metadata": {},
          "output_type": "execute_result"
        }
      ],
      "source": [
        "J-I"
      ]
    },
    {
      "cell_type": "markdown",
      "metadata": {
        "id": "O7Wc1XNYswM3"
      },
      "source": [
        "- indexing = 'i,j'가 없으면, meshgrid의 순서가 바뀐다.\n",
        "- 2차원 3차원 그리드에서 함수를 초기화하는것 외에도, 배열을 인덱싱하기위해 매쉬는 유용하게 쓰인다."
      ]
    },
    {
      "cell_type": "code",
      "execution_count": null,
      "metadata": {
        "id": "Y_Gf-ZSKsFgE"
      },
      "outputs": [],
      "source": [
        "from numpy.lib import shape_base\n",
        "a = np.array([[1,2],[3,4]])\n",
        "I,J = np.indices(a.shape)"
      ]
    },
    {
      "cell_type": "code",
      "execution_count": null,
      "metadata": {
        "colab": {
          "base_uri": "https://localhost:8080/"
        },
        "id": "gKTElOtqtbWk",
        "outputId": "50dd2ae9-a487-46c0-d040-fa72c53c4342"
      },
      "outputs": [
        {
          "data": {
            "text/plain": [
              "array([[1, 2],\n",
              "       [3, 4]])"
            ]
          },
          "execution_count": 28,
          "metadata": {},
          "output_type": "execute_result"
        }
      ],
      "source": [
        "a[I,J]"
      ]
    },
    {
      "cell_type": "code",
      "execution_count": null,
      "metadata": {
        "colab": {
          "base_uri": "https://localhost:8080/"
        },
        "id": "ZkMipXn3tfQu",
        "outputId": "19e9448b-6724-4e50-e0f3-f6afb850ff17"
      },
      "outputs": [
        {
          "data": {
            "text/plain": [
              "array([[1, 3],\n",
              "       [2, 4]])"
            ]
          },
          "execution_count": 29,
          "metadata": {},
          "output_type": "execute_result"
        }
      ],
      "source": [
        "a[J,I]"
      ]
    },
    {
      "cell_type": "markdown",
      "metadata": {
        "id": "T59Bug8wtirP"
      },
      "source": [
        "## 행렬 통계\n",
        "- sum 과 마찬가지로 다양한 계산들을 축에대해 할 수 있다."
      ]
    },
    {
      "cell_type": "code",
      "execution_count": null,
      "metadata": {
        "colab": {
          "base_uri": "https://localhost:8080/"
        },
        "id": "oFSamwwktgTD",
        "outputId": "7404afba-85a0-47ac-dddd-5c21dd00f73a"
      },
      "outputs": [
        {
          "data": {
            "text/plain": [
              "1"
            ]
          },
          "execution_count": 34,
          "metadata": {},
          "output_type": "execute_result"
        }
      ],
      "source": [
        "a = np.array([[1,2,3],[4,5,6]])\n",
        "m = a.min()\n",
        "m"
      ]
    },
    {
      "cell_type": "code",
      "execution_count": null,
      "metadata": {
        "colab": {
          "base_uri": "https://localhost:8080/"
        },
        "id": "EnApnrGGt5E0",
        "outputId": "2a22e631-2bec-4596-9121-032a1ebb5e68"
      },
      "outputs": [
        {
          "data": {
            "text/plain": [
              "array([1, 2, 3])"
            ]
          },
          "execution_count": 35,
          "metadata": {},
          "output_type": "execute_result"
        }
      ],
      "source": [
        "mj = a.min(axis=0)\n",
        "mj"
      ]
    },
    {
      "cell_type": "code",
      "execution_count": null,
      "metadata": {
        "colab": {
          "base_uri": "https://localhost:8080/"
        },
        "id": "6DaOf8T4uCrq",
        "outputId": "9fd8a423-698f-4b3d-9706-e7d38de00acb"
      },
      "outputs": [
        {
          "data": {
            "text/plain": [
              "array([1, 4])"
            ]
          },
          "execution_count": 36,
          "metadata": {},
          "output_type": "execute_result"
        }
      ],
      "source": [
        "mi = a.min(axis=1)\n",
        "mi"
      ]
    },
    {
      "cell_type": "markdown",
      "metadata": {
        "id": "pBMh98U0uIE8"
      },
      "source": [
        "- argmin, argmax함수는 2차원 이상을 다루는 데 문제가 있다.\n",
        "- 두 좌표로 변환하려면 unravel_index함수가 필요하다"
      ]
    },
    {
      "cell_type": "code",
      "execution_count": null,
      "metadata": {
        "colab": {
          "base_uri": "https://localhost:8080/"
        },
        "id": "XohYJVjiuGHA",
        "outputId": "ba446888-e9f7-49e9-f7cc-fda8b5a83dfd"
      },
      "outputs": [
        {
          "data": {
            "text/plain": [
              "0"
            ]
          },
          "execution_count": 39,
          "metadata": {},
          "output_type": "execute_result"
        }
      ],
      "source": [
        "a = np.array([[1,2,3],[4,5,6]])\n",
        "k=a.argmin()\n",
        "k"
      ]
    },
    {
      "cell_type": "code",
      "execution_count": null,
      "metadata": {
        "colab": {
          "base_uri": "https://localhost:8080/"
        },
        "id": "jCttThisujps",
        "outputId": "6ce17143-ed0b-438e-d23f-e4cc72455811"
      },
      "outputs": [
        {
          "data": {
            "text/plain": [
              "array([0, 0, 0])"
            ]
          },
          "execution_count": 41,
          "metadata": {},
          "output_type": "execute_result"
        }
      ],
      "source": [
        "zj=a.argmin(axis=0)\n",
        "zj\n"
      ]
    },
    {
      "cell_type": "code",
      "execution_count": null,
      "metadata": {
        "colab": {
          "base_uri": "https://localhost:8080/"
        },
        "id": "XsdFNg2CuodD",
        "outputId": "7a0373eb-fff1-42d1-b813-36ee5b643921"
      },
      "outputs": [
        {
          "data": {
            "text/plain": [
              "array([0, 0])"
            ]
          },
          "execution_count": 42,
          "metadata": {},
          "output_type": "execute_result"
        }
      ],
      "source": [
        "zi = a.argmin(axis=1)\n",
        "zi"
      ]
    },
    {
      "cell_type": "code",
      "execution_count": null,
      "metadata": {
        "colab": {
          "base_uri": "https://localhost:8080/"
        },
        "id": "hN_ZvzuouwlO",
        "outputId": "ca053f2c-c96a-4363-ab02-e3a849393d69"
      },
      "outputs": [
        {
          "data": {
            "text/plain": [
              "(0, 0)"
            ]
          },
          "execution_count": 44,
          "metadata": {},
          "output_type": "execute_result"
        }
      ],
      "source": [
        "np.unravel_index(a.argmin(),a.shape) # == k"
      ]
    },
    {
      "cell_type": "markdown",
      "metadata": {
        "id": "yZg5R61AvJYt"
      },
      "source": [
        "## 매트릭스 정렬\n",
        "- 축은 나열된 것들에게는 도움이 되지만, 2차원 정렬에는 도움이 되지 않는다."
      ]
    },
    {
      "cell_type": "code",
      "execution_count": null,
      "metadata": {
        "colab": {
          "base_uri": "https://localhost:8080/"
        },
        "id": "Ho5fyy4Fu2AR",
        "outputId": "e09674ad-7965-4baf-c577-a326fbff8dee"
      },
      "outputs": [
        {
          "data": {
            "text/plain": [
              "array([[ 1, 22,  3],\n",
              "       [ 4, 55,  6]])"
            ]
          },
          "execution_count": 48,
          "metadata": {},
          "output_type": "execute_result"
        }
      ],
      "source": [
        "a = np.array([[1,22,3],[4,55,6]])\n",
        "a.sort(axis=0)\n",
        "a"
      ]
    },
    {
      "cell_type": "code",
      "execution_count": null,
      "metadata": {
        "colab": {
          "base_uri": "https://localhost:8080/"
        },
        "id": "DcCQqS8avmuQ",
        "outputId": "a4a30023-a860-4bd2-d178-d5d6029a38b0"
      },
      "outputs": [
        {
          "data": {
            "text/plain": [
              "array([[ 1,  3, 22],\n",
              "       [ 4,  6, 55]])"
            ]
          },
          "execution_count": 49,
          "metadata": {},
          "output_type": "execute_result"
        }
      ],
      "source": [
        "a = np.array([[1,22,3],[4,55,6]])\n",
        "a.sort(axis=1)\n",
        "a"
      ]
    },
    {
      "cell_type": "markdown",
      "metadata": {
        "id": "a1H2MIPywGC4"
      },
      "source": [
        "- 이 방식은 보통 원하던 정렬방식이 아닐 것이다.\n",
        "- 축은 key를 대체할 수 없다.\n",
        "- 하지만 넘파이는 열, 여러 열을 기준으로 정렬할 수 있는 도우미 함수가 있다."
      ]
    },
    {
      "cell_type": "markdown",
      "metadata": {
        "id": "_msGAuB48GI_"
      },
      "source": [
        "1. 첫번쨰 열을 기준으로 배열 정렬"
      ]
    },
    {
      "cell_type": "code",
      "execution_count": null,
      "metadata": {
        "colab": {
          "base_uri": "https://localhost:8080/"
        },
        "id": "YuvhTNT8vxnx",
        "outputId": "c1c0f0d7-72b6-4e2d-c559-383fb8e1846e"
      },
      "outputs": [
        {
          "data": {
            "text/plain": [
              "array([[7],\n",
              "       [6],\n",
              "       [2],\n",
              "       [3]])"
            ]
          },
          "execution_count": 78,
          "metadata": {},
          "output_type": "execute_result"
        }
      ],
      "source": [
        "\n",
        "a = np.array([7,6,2,3]).reshape(4,1)\n",
        "np.sort(a)\n",
        "a"
      ]
    },
    {
      "cell_type": "code",
      "execution_count": null,
      "metadata": {
        "colab": {
          "base_uri": "https://localhost:8080/"
        },
        "id": "OdggHuS4wvTu",
        "outputId": "cb2d71f5-1fc3-4bd5-9d21-bce8ab49ce6c"
      },
      "outputs": [
        {
          "data": {
            "text/plain": [
              "array([[7],\n",
              "       [6],\n",
              "       [2],\n",
              "       [3]])"
            ]
          },
          "execution_count": 79,
          "metadata": {},
          "output_type": "execute_result"
        }
      ],
      "source": [
        "np.argsort(a)\n",
        "a"
      ]
    },
    {
      "cell_type": "code",
      "execution_count": null,
      "metadata": {
        "colab": {
          "base_uri": "https://localhost:8080/"
        },
        "id": "jvXQAq60xBoh",
        "outputId": "41eb4051-9e0f-4ee3-eac9-e81d0a3bdfa3"
      },
      "outputs": [
        {
          "name": "stdout",
          "output_type": "stream",
          "text": [
            "[[0.07913826 0.25862445 0.20787164]\n",
            " [0.27942964 0.47225923 0.84444965]\n",
            " [0.73088674 0.11870516 0.15196411]\n",
            " [0.0325748  0.24510506 0.26331408]]\n",
            "[[0.0325748  0.24510506 0.26331408]\n",
            " [0.07913826 0.25862445 0.20787164]\n",
            " [0.27942964 0.47225923 0.84444965]\n",
            " [0.73088674 0.11870516 0.15196411]]\n"
          ]
        }
      ],
      "source": [
        "b = np.random.random(12).reshape(4,3)\n",
        "print(b)\n",
        "print(b[np.argsort(b[:,0])])"
      ]
    },
    {
      "cell_type": "markdown",
      "metadata": {
        "id": "4bcn67Vbw7cc"
      },
      "source": [
        "2.  모든 열을 기준으로 정렬하는 도우미 함수 lexsort가 있지만 항상 행 단위로 수행되며 정렬할 행의 순서가 반전되므로 사용법이 약간 인위적인 예이다."
      ]
    },
    {
      "cell_type": "code",
      "execution_count": null,
      "metadata": {
        "colab": {
          "base_uri": "https://localhost:8080/"
        },
        "id": "aOlEsG-Aw4Do",
        "outputId": "020efe97-8c0f-4a47-d1d3-cbcc293cd6d5"
      },
      "outputs": [
        {
          "name": "stdout",
          "output_type": "stream",
          "text": [
            "[[0.68922916 0.60228876]\n",
            " [0.44748816 0.95155465]\n",
            " [0.87554373 0.82728496]\n",
            " [0.34489005 0.24777325]]\n",
            "[[0.60228876 0.95155465 0.82728496 0.24777325]\n",
            " [0.68922916 0.44748816 0.87554373 0.34489005]]\n",
            "[3 1 0 2]\n"
          ]
        },
        {
          "data": {
            "text/plain": [
              "array([[0.34489005, 0.24777325],\n",
              "       [0.44748816, 0.95155465],\n",
              "       [0.68922916, 0.60228876],\n",
              "       [0.87554373, 0.82728496]])"
            ]
          },
          "execution_count": 81,
          "metadata": {},
          "output_type": "execute_result"
        }
      ],
      "source": [
        "a=np.random.random(8).reshape(4,2)\n",
        "print(a)\n",
        "b = np.rot90(a)\n",
        "print(b)\n",
        "c = np.lexsort(b)\n",
        "print(c)\n",
        "a[c]"
      ]
    },
    {
      "cell_type": "markdown",
      "metadata": {
        "id": "az_WeM3UzEzD"
      },
      "source": [
        "3. sort의 order를 사용하려면 배열을 구조화된 형식으로 바꿔야한다.\n",
        "- 그런다음 마지막으로 일반형식으로 다시 반환한다."
      ]
    },
    {
      "cell_type": "code",
      "execution_count": null,
      "metadata": {
        "colab": {
          "base_uri": "https://localhost:8080/"
        },
        "id": "r-w8AYLsypYZ",
        "outputId": "8d096dfd-3d9c-46d8-b8b0-7b4a8ea17849"
      },
      "outputs": [
        {
          "name": "stdout",
          "output_type": "stream",
          "text": [
            "[[0.58731335 0.79127743]\n",
            " [0.48875669 0.52140687]\n",
            " [0.56201199 0.60945576]\n",
            " [0.33133222 0.49925642]]\n",
            "[(0.58731335, 0.79127743) (0.48875669, 0.52140687)\n",
            " (0.56201199, 0.60945576) (0.33133222, 0.49925642)]\n"
          ]
        },
        {
          "data": {
            "text/plain": [
              "array([[0.33133222, 0.49925642],\n",
              "       [0.48875669, 0.52140687],\n",
              "       [0.56201199, 0.60945576],\n",
              "       [0.58731335, 0.79127743]])"
            ]
          },
          "execution_count": 82,
          "metadata": {},
          "output_type": "execute_result"
        }
      ],
      "source": [
        "a = np.random.random(8).reshape(4,2)\n",
        "print(a)\n",
        "from numpy.lib.recfunctions import unstructured_to_structured as u2s, structured_to_unstructured as s2u\n",
        "\n",
        "b = u2s(a)\n",
        "print(b)\n",
        "b.sort(order=('f1','f0'))\n",
        "s2u(b)"
      ]
    },
    {
      "cell_type": "markdown",
      "metadata": {
        "id": "ptGkQ_o37twe"
      },
      "source": [
        "- 이 두변환은 빠르고 메모리를 추가로 필요로 하지 않는다. 하지만 u2s와 s2u기능을 임포트해와야 한다.\n",
        "4. 판다스에서 수행하는 것이 더 좋을 수 있다.\n",
        "- 더 읽기 쉽고 오류가 덜난다.\n",
        "- ```pd.DataFrame(a).sort_values(by=[2,5]).to_numpy()``` 2열에 대해 정렬한 다음 5열에 대해 정렬한다\n",
        "- ```pd.DataFrame(a).sort_values().to_numpy()``` 왼쪽에서 오른쪽으로 모든 열을 기준으로 정렬"
      ]
    },
    {
      "cell_type": "markdown",
      "metadata": {
        "id": "hEZd9qln9Ag3"
      },
      "source": [
        "# 3. 3차원 이상"
      ]
    },
    {
      "cell_type": "code",
      "execution_count": null,
      "metadata": {
        "colab": {
          "base_uri": "https://localhost:8080/"
        },
        "id": "W1G9qP7k8lp2",
        "outputId": "8c682789-41c7-4a79-b803-fc3a985d1331"
      },
      "outputs": [
        {
          "data": {
            "text/plain": [
              "array([[[1, 2],\n",
              "        [3, 4]],\n",
              "\n",
              "       [[5, 6],\n",
              "        [7, 8]]])"
            ]
          },
          "execution_count": 91,
          "metadata": {},
          "output_type": "execute_result"
        }
      ],
      "source": [
        " arr = np.arange(1,9).reshape(2,2,2)\n",
        " arr"
      ]
    },
    {
      "cell_type": "code",
      "execution_count": null,
      "metadata": {
        "colab": {
          "base_uri": "https://localhost:8080/"
        },
        "id": "KBWPQ8qR-DPR",
        "outputId": "599aceb2-aab9-43bd-93a8-e0f3e5574d6c"
      },
      "outputs": [
        {
          "data": {
            "text/plain": [
              "(2, 2, 2)"
            ]
          },
          "execution_count": 92,
          "metadata": {},
          "output_type": "execute_result"
        }
      ],
      "source": [
        "arr.shape"
      ]
    },
    {
      "cell_type": "markdown",
      "metadata": {
        "id": "rHMnBnM2-q7W"
      },
      "source": [
        "- 이 인덱스는 회색의 이미지를 관리하기 편하다.\n",
        "- 그러나 이 인덱스 순서는 보편적이지 않다.\n",
        "- rgb이미지로 작업할 때 일반적으로(y,x,z,)순서가 사용된다."
      ]
    },
    {
      "cell_type": "code",
      "execution_count": null,
      "metadata": {
        "colab": {
          "base_uri": "https://localhost:8080/"
        },
        "id": "iwZ9cX73-JbF",
        "outputId": "9c423433-8a35-4e78-c625-1a76e98eaa15"
      },
      "outputs": [
        {
          "data": {
            "text/plain": [
              "(2, 4, 3)"
            ]
          },
          "execution_count": 94,
          "metadata": {},
          "output_type": "execute_result"
        }
      ],
      "source": [
        "a = np.array([[[0,1,2],[0,1,2],[0,1,2],[0,1,2]],[[0,1,2],[0,1,2],[0,1,2],[0,1,2]]])\n",
        "a.shape"
      ]
    },
    {
      "cell_type": "code",
      "execution_count": null,
      "metadata": {
        "colab": {
          "base_uri": "https://localhost:8080/"
        },
        "id": "-Wq-zJaI_I3D",
        "outputId": "ddc4cedc-4099-418d-8097-3d9a5250172c"
      },
      "outputs": [
        {
          "data": {
            "text/plain": [
              "(2, 4, 3)"
            ]
          },
          "execution_count": 96,
          "metadata": {},
          "output_type": "execute_result"
        }
      ],
      "source": [
        "b = np.dstack(([[0,0,0,0],[0,0,0,0]],[[1,1,1,1],[1,1,1,1]],[[2,2,2,2],[2,2,2,2]]))\n",
        "b.shape"
      ]
    },
    {
      "cell_type": "markdown",
      "metadata": {
        "id": "VYZNTld4_gPN"
      },
      "source": [
        "- 명백히, hstack, vstack,또는 dstack같은 넘파이 함수들은 a[i,j]이 (i,j)픽셀의 (r,g,b)튜플을 제공하는 이러한 규칙을 인식하지 못한다. \n",
        " - 데이터가 다르게 배치된 경우 concatenate명령을 사용하여을 사용하여 이미지를 스택하는 것이 더 편리하며 축에 명시적인 인덱스 번호를 제공한다."
      ]
    },
    {
      "cell_type": "code",
      "execution_count": null,
      "metadata": {
        "colab": {
          "base_uri": "https://localhost:8080/"
        },
        "id": "tm20c8Pq_YT0",
        "outputId": "7646c44f-70bf-4275-b1a6-973bca5b753d"
      },
      "outputs": [
        {
          "data": {
            "text/plain": [
              "array([[[ 1,  2,  3,  4,  1,  2],\n",
              "        [ 5,  6,  7,  8,  3,  4],\n",
              "        [ 9, 10, 11, 12,  5,  6]],\n",
              "\n",
              "       [[13, 14, 15, 16,  7,  8],\n",
              "        [17, 18, 19, 20,  9, 10],\n",
              "        [21, 22, 23, 24, 11, 12]]])"
            ]
          },
          "execution_count": 98,
          "metadata": {},
          "output_type": "execute_result"
        }
      ],
      "source": [
        "a = np.arange(1,25).reshape(2,3,4)\n",
        "b = np.arange(1,17).reshape(2,2,4)\n",
        "c = np.arange(1,13).reshape(2,3,2)\n",
        "d = np.arange(1,25).reshape(2,3,4)\n",
        "np.concatenate((a,c),axis=2)"
      ]
    },
    {
      "cell_type": "code",
      "execution_count": null,
      "metadata": {
        "colab": {
          "base_uri": "https://localhost:8080/"
        },
        "id": "cMw_z4fRAjeT",
        "outputId": "c98aa22c-9728-401d-a195-2850ecc89bd4"
      },
      "outputs": [
        {
          "data": {
            "text/plain": [
              "array([[[ 1,  2,  3,  4],\n",
              "        [ 5,  6,  7,  8],\n",
              "        [ 9, 10, 11, 12],\n",
              "        [ 1,  2,  3,  4],\n",
              "        [ 5,  6,  7,  8]],\n",
              "\n",
              "       [[13, 14, 15, 16],\n",
              "        [17, 18, 19, 20],\n",
              "        [21, 22, 23, 24],\n",
              "        [ 9, 10, 11, 12],\n",
              "        [13, 14, 15, 16]]])"
            ]
          },
          "execution_count": 99,
          "metadata": {},
          "output_type": "execute_result"
        }
      ],
      "source": [
        "np.concatenate((a,b),axis=1)"
      ]
    },
    {
      "cell_type": "code",
      "execution_count": null,
      "metadata": {
        "colab": {
          "base_uri": "https://localhost:8080/"
        },
        "id": "hqR4Td0mA2c7",
        "outputId": "335aa318-8066-49aa-8a16-5cecd8199301"
      },
      "outputs": [
        {
          "data": {
            "text/plain": [
              "array([[[ 1,  2,  3,  4],\n",
              "        [ 5,  6,  7,  8],\n",
              "        [ 9, 10, 11, 12]],\n",
              "\n",
              "       [[13, 14, 15, 16],\n",
              "        [17, 18, 19, 20],\n",
              "        [21, 22, 23, 24]],\n",
              "\n",
              "       [[ 1,  2,  3,  4],\n",
              "        [ 5,  6,  7,  8],\n",
              "        [ 9, 10, 11, 12]],\n",
              "\n",
              "       [[13, 14, 15, 16],\n",
              "        [17, 18, 19, 20],\n",
              "        [21, 22, 23, 24]]])"
            ]
          },
          "execution_count": 100,
          "metadata": {},
          "output_type": "execute_result"
        }
      ],
      "source": [
        "np.concatenate((a,d),axis=0)"
      ]
    },
    {
      "cell_type": "markdown",
      "metadata": {
        "id": "ZCjyCwOhENI-"
      },
      "source": [
        "- np.arr"
      ]
    },
    {
      "cell_type": "code",
      "execution_count": null,
      "metadata": {
        "colab": {
          "base_uri": "https://localhost:8080/"
        },
        "id": "5Up7jHjrA5H2",
        "outputId": "dd6cf6d4-0012-4a78-d8e7-b225b18c0c26"
      },
      "outputs": [
        {
          "data": {
            "text/plain": [
              "(3, 2, 4)"
            ]
          },
          "execution_count": 101,
          "metadata": {},
          "output_type": "execute_result"
        }
      ],
      "source": [
        "b = np.array(([[0,0,0,0],[0,0,0,0]],[[1,1,1,1],[1,1,1,1]],[[2,2,2,2],[2,2,2,2]]))\n",
        "b.shape"
      ]
    },
    {
      "cell_type": "code",
      "execution_count": null,
      "metadata": {
        "colab": {
          "base_uri": "https://localhost:8080/"
        },
        "id": "iLu8PVqvFOiL",
        "outputId": "94c8dab3-e31c-4b76-d8aa-5d721a86bf43"
      },
      "outputs": [
        {
          "data": {
            "text/plain": [
              "array([[[0, 1, 2],\n",
              "        [0, 1, 2],\n",
              "        [0, 1, 2],\n",
              "        [0, 1, 2]],\n",
              "\n",
              "       [[0, 1, 2],\n",
              "        [0, 1, 2],\n",
              "        [0, 1, 2],\n",
              "        [0, 1, 2]]])"
            ]
          },
          "execution_count": 103,
          "metadata": {},
          "output_type": "execute_result"
        }
      ],
      "source": [
        "np.moveaxis(b,0,2)"
      ]
    },
    {
      "cell_type": "code",
      "execution_count": null,
      "metadata": {
        "colab": {
          "base_uri": "https://localhost:8080/"
        },
        "id": "aP4S3QvuFFuW",
        "outputId": "e4208194-f1d4-4d60-e0de-96ccab76e20e"
      },
      "outputs": [
        {
          "data": {
            "text/plain": [
              "(2, 4, 3)"
            ]
          },
          "execution_count": 102,
          "metadata": {},
          "output_type": "execute_result"
        }
      ],
      "source": [
        "c = np.dstack(([[0,0,0,0],[0,0,0,0]],[[1,1,1,1],[1,1,1,1]],[[2,2,2,2],[2,2,2,2]]))\n",
        "c.shape"
      ]
    },
    {
      "cell_type": "code",
      "execution_count": null,
      "metadata": {
        "colab": {
          "base_uri": "https://localhost:8080/"
        },
        "id": "wvrq4VxcFSCc",
        "outputId": "acbef99e-aa55-4e21-cf5b-0a803714b68c"
      },
      "outputs": [
        {
          "data": {
            "text/plain": [
              "array([[[0, 0, 0, 0],\n",
              "        [0, 0, 0, 0]],\n",
              "\n",
              "       [[1, 1, 1, 1],\n",
              "        [1, 1, 1, 1]],\n",
              "\n",
              "       [[2, 2, 2, 2],\n",
              "        [2, 2, 2, 2]]])"
            ]
          },
          "execution_count": 104,
          "metadata": {},
          "output_type": "execute_result"
        }
      ],
      "source": [
        "np.moveaxis(c,2,0)"
      ]
    },
    {
      "cell_type": "markdown",
      "metadata": {
        "id": "0gaj4atRFVeF"
      },
      "source": [
        "- 이 변환은 효율적이다.\n",
        "- 실제로 복사가 일어나지 않고 이것은 그냥 인덱스 순서를 혼합한다.\n",
        "\n",
        "<br>\n",
        "\n",
        "- 배열 전치를 통해 인덱스 순서를 혼합할 수 있다."
      ]
    },
    {
      "cell_type": "markdown",
      "metadata": {
        "id": "psLcYtRnGUJ0"
      },
      "source": [
        "- np.tensordot(a, b, axis=1) 이 특이한 예시는 두 경우 모두 충분하지만 복잡한 경우에는 einusum은 더 빠르게 해결할 수 있다."
      ]
    }
  ],
  "metadata": {
    "colab": {
      "collapsed_sections": [],
      "name": "2019250011_김정연 9차과제 the visual guide to numpy",
      "provenance": []
    },
    "kernelspec": {
      "display_name": "Python 3",
      "name": "python3"
    },
    "language_info": {
      "name": "python"
    }
  },
  "nbformat": 4,
  "nbformat_minor": 0
}
