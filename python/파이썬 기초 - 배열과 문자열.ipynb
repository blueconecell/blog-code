{
 "cells": [
  {
   "cell_type": "markdown",
   "id": "ded36a4b",
   "metadata": {
    "papermill": {
     "duration": null,
     "end_time": null,
     "exception": null,
     "start_time": null,
     "status": "pending"
    },
    "tags": []
   },
   "source": [
    "> # 배열과 문자열\n",
    "\n",
    "### 배열\n",
    "\n",
    "- 여러개의 값을 하나로 묶어 놓은 것을 배열이라 한다.\n",
    "- 배열 내에는 여러개의 자료형이 들어갈 수 있다.\n",
    "- 배열은 순서(인덱스)를 갖고 있다. 왼쪽부터 0, 1, 2 ... 으로 늘어난다."
   ]
  },
  {
   "cell_type": "code",
   "execution_count": 16,
   "id": "08a91665",
   "metadata": {
    "execution": {
     "iopub.execute_input": "2022-03-04T08:02:02.855954Z",
     "iopub.status.busy": "2022-03-04T08:02:02.855670Z",
     "iopub.status.idle": "2022-03-04T08:02:02.861791Z",
     "shell.execute_reply": "2022-03-04T08:02:02.860892Z",
     "shell.execute_reply.started": "2022-03-04T08:02:02.855924Z"
    },
    "papermill": {
     "duration": null,
     "end_time": null,
     "exception": null,
     "start_time": null,
     "status": "pending"
    },
    "tags": []
   },
   "outputs": [
    {
     "name": "stdout",
     "output_type": "stream",
     "text": [
      "('apple', 2, 3, 1, '22', 'array')\n",
      "apple\n",
      "3\n"
     ]
    }
   ],
   "source": [
    "arr = ('apple', 2, 3, 1, '22', 'array')\n",
    "print(arr)\n",
    "print(arr[0])\n",
    "print(arr[2])"
   ]
  },
  {
   "cell_type": "code",
   "execution_count": 17,
   "id": "68f86bba",
   "metadata": {
    "execution": {
     "iopub.execute_input": "2022-03-04T08:02:02.895035Z",
     "iopub.status.busy": "2022-03-04T08:02:02.894115Z",
     "iopub.status.idle": "2022-03-04T08:02:02.900555Z",
     "shell.execute_reply": "2022-03-04T08:02:02.899868Z",
     "shell.execute_reply.started": "2022-03-04T08:02:02.894984Z"
    },
    "papermill": {
     "duration": null,
     "end_time": null,
     "exception": null,
     "start_time": null,
     "status": "pending"
    },
    "tags": []
   },
   "outputs": [
    {
     "name": "stdout",
     "output_type": "stream",
     "text": [
      "('apple', 2, 3)\n",
      "('apple', 2, 3, 1, '22', 'array')\n",
      "array\n",
      "('apple', 3, '22')\n",
      "('22', 1, 3, 2, 'apple')\n"
     ]
    }
   ],
   "source": [
    "print(arr[0:3])\n",
    "print(arr[:])\n",
    "print(arr[-1])\n",
    "print(arr[::2])\n",
    "print(arr[4::-1])"
   ]
  },
  {
   "cell_type": "markdown",
   "id": "25079a74",
   "metadata": {
    "papermill": {
     "duration": null,
     "end_time": null,
     "exception": null,
     "start_time": null,
     "status": "pending"
    },
    "tags": []
   },
   "source": [
    "- 배열은 ```+```으로 더할 수 있다.\n",
    "- ```len()```으로 배열의 길이를 구할 수 있다."
   ]
  },
  {
   "cell_type": "code",
   "execution_count": 18,
   "id": "9770a389",
   "metadata": {
    "execution": {
     "iopub.execute_input": "2022-03-04T08:02:03.214080Z",
     "iopub.status.busy": "2022-03-04T08:02:03.213297Z",
     "iopub.status.idle": "2022-03-04T08:02:03.219993Z",
     "shell.execute_reply": "2022-03-04T08:02:03.219259Z",
     "shell.execute_reply.started": "2022-03-04T08:02:03.214038Z"
    },
    "papermill": {
     "duration": null,
     "end_time": null,
     "exception": null,
     "start_time": null,
     "status": "pending"
    },
    "tags": []
   },
   "outputs": [
    {
     "name": "stdout",
     "output_type": "stream",
     "text": [
      "[1, 2, 3, 4, 'a', 'ss', '44', 33]\n",
      "8\n"
     ]
    }
   ],
   "source": [
    "arr1 = [1,2,3,4]\n",
    "arr2 = ['a', 'ss','44',33]\n",
    "arr3 = arr1 + arr2\n",
    "print(arr3)\n",
    "print(len(arr3))"
   ]
  },
  {
   "cell_type": "markdown",
   "id": "e1ff0087",
   "metadata": {
    "papermill": {
     "duration": null,
     "end_time": null,
     "exception": null,
     "start_time": null,
     "status": "pending"
    },
    "tags": []
   },
   "source": [
    "- 배열의 인덱스를 이용해 내용을 수정할 수 있다.\n",
    "- ```배열.append()```를 이용하여 배열 끝에 요소를 **추가**할 수 있다.\n",
    "- ```배열.insert()```를 이용하여 배열의 원하는 위치에 요소를 **삽입**할 수 있다.\n",
    "- ```배열.remove()```를 이용하여 배열 원하는 위치에 요소를 **삭제**할 수 있다."
   ]
  },
  {
   "cell_type": "code",
   "execution_count": 19,
   "id": "a5d20fd1",
   "metadata": {
    "execution": {
     "iopub.execute_input": "2022-03-04T08:02:03.517744Z",
     "iopub.status.busy": "2022-03-04T08:02:03.517273Z",
     "iopub.status.idle": "2022-03-04T08:02:03.522581Z",
     "shell.execute_reply": "2022-03-04T08:02:03.522027Z",
     "shell.execute_reply.started": "2022-03-04T08:02:03.517699Z"
    },
    "papermill": {
     "duration": null,
     "end_time": null,
     "exception": null,
     "start_time": null,
     "status": "pending"
    },
    "tags": []
   },
   "outputs": [
    {
     "name": "stdout",
     "output_type": "stream",
     "text": [
      "[1, 2, 3, 4, 5, 33]\n",
      "[1, 2, 3333, 3, 4, 5, 33]\n",
      "[1, 2, 3333, 3, 5, 33]\n"
     ]
    }
   ],
   "source": [
    "arr = [1,2,3,4,5]\n",
    "arr.append(33)\n",
    "print(arr)\n",
    "\n",
    "arr.insert(2,3333)\n",
    "print(arr)\n",
    "\n",
    "arr.remove(4)\n",
    "print(arr)"
   ]
  },
  {
   "cell_type": "markdown",
   "id": "1aafc76b",
   "metadata": {
    "papermill": {
     "duration": null,
     "end_time": null,
     "exception": null,
     "start_time": null,
     "status": "pending"
    },
    "tags": []
   },
   "source": [
    "- 슬라이싱으로 리스트의 특정 구간을 다른 리스트로 대체할 수 있다."
   ]
  },
  {
   "cell_type": "code",
   "execution_count": 20,
   "id": "42f9e0e8",
   "metadata": {
    "execution": {
     "iopub.execute_input": "2022-03-04T08:02:03.818803Z",
     "iopub.status.busy": "2022-03-04T08:02:03.818549Z",
     "iopub.status.idle": "2022-03-04T08:02:03.825613Z",
     "shell.execute_reply": "2022-03-04T08:02:03.824719Z",
     "shell.execute_reply.started": "2022-03-04T08:02:03.818776Z"
    },
    "papermill": {
     "duration": null,
     "end_time": null,
     "exception": null,
     "start_time": null,
     "status": "pending"
    },
    "tags": []
   },
   "outputs": [
    {
     "name": "stdout",
     "output_type": "stream",
     "text": [
      "[0, 1, 'a', 'b', 'c', 'd', 6, 7, 8, 9]\n",
      "[]\n"
     ]
    }
   ],
   "source": [
    "arr = [0,1,2,3,4,5,6,7,8,9]\n",
    "arr[2:6] = ['a','b','c','d']\n",
    "print(arr)\n",
    "\n",
    "arr[:]=[] # 전체삭제\n",
    "print(arr)"
   ]
  },
  {
   "cell_type": "markdown",
   "id": "04bc499a",
   "metadata": {
    "papermill": {
     "duration": null,
     "end_time": null,
     "exception": null,
     "start_time": null,
     "status": "pending"
    },
    "tags": []
   },
   "source": [
    "- 배열 안에 배열을 집어넣어 중첩배열인 2중배열을 만들 수 있다."
   ]
  },
  {
   "cell_type": "code",
   "execution_count": 21,
   "id": "7ceebcfc",
   "metadata": {
    "execution": {
     "iopub.execute_input": "2022-03-04T08:02:04.243976Z",
     "iopub.status.busy": "2022-03-04T08:02:04.243700Z",
     "iopub.status.idle": "2022-03-04T08:02:04.249201Z",
     "shell.execute_reply": "2022-03-04T08:02:04.248571Z",
     "shell.execute_reply.started": "2022-03-04T08:02:04.243947Z"
    },
    "papermill": {
     "duration": null,
     "end_time": null,
     "exception": null,
     "start_time": null,
     "status": "pending"
    },
    "tags": []
   },
   "outputs": [
    {
     "name": "stdout",
     "output_type": "stream",
     "text": [
      "[[0, 1, 2, 3, 4, 5], ['a', 'b']]\n",
      "[0, 1, 2, 3, 4, 5]\n",
      "2\n"
     ]
    }
   ],
   "source": [
    "arr1 = [0,1,2,3,4,5]\n",
    "arr2 = ['a', 'b']\n",
    "arr = [arr1, arr2]\n",
    "print(arr)\n",
    "print(arr[0])\n",
    "print(arr[0][2])"
   ]
  }
 ],
 "metadata": {
  "kernelspec": {
   "display_name": "Python 3",
   "language": "python",
   "name": "python3"
  },
  "language_info": {
   "codemirror_mode": {
    "name": "ipython",
    "version": 3
   },
   "file_extension": ".py",
   "mimetype": "text/x-python",
   "name": "python",
   "nbconvert_exporter": "python",
   "pygments_lexer": "ipython3",
   "version": "3.9.9"
  },
  "papermill": {
   "default_parameters": {},
   "duration": 10.6454,
   "end_time": "2022-03-04T08:02:37.425562",
   "environment_variables": {},
   "exception": true,
   "input_path": "__notebook__.ipynb",
   "output_path": "__notebook__.ipynb",
   "parameters": {},
   "start_time": "2022-03-04T08:02:26.780162",
   "version": "2.3.3"
  }
 },
 "nbformat": 4,
 "nbformat_minor": 5
}
